{
  "nbformat": 4,
  "nbformat_minor": 0,
  "metadata": {
    "colab": {
      "provenance": []
    },
    "kernelspec": {
      "name": "python3",
      "display_name": "Python 3"
    },
    "language_info": {
      "name": "python"
    }
  },
  "cells": [
    {
      "cell_type": "code",
      "source": [
        "# Function to evaluate a given expression\n",
        "def evaluate(exp):\n",
        "    # Separate out entities in the expression\n",
        "    words = exp.split()\n",
        "\n",
        "    # Initialize list for operators and values\n",
        "    operators = []\n",
        "    values = []\n",
        "\n",
        "    # Function to apply the operator and evaluate the expression\n",
        "    def apply_operator():\n",
        "        operator = operators.pop()\n",
        "        rvalue = values.pop()\n",
        "        lvalue = values.pop()\n",
        "        if operator == '+':\n",
        "            values.append(lvalue + rvalue)\n",
        "        elif operator == '-':\n",
        "            values.append(lvalue - rvalue)\n",
        "        elif operator == '*':\n",
        "            values.append(lvalue * rvalue)\n",
        "        elif operator == '/':\n",
        "            values.append(lvalue / rvalue)\n",
        "\n",
        "    # Loop through each word and store it in corresponding lists\n",
        "    i = 0\n",
        "    while i < len(words):\n",
        "        word = words[i]\n",
        "        if word.isdigit():\n",
        "            values.append(float(word))\n",
        "        elif word == 'plus':\n",
        "            operators.append('+')\n",
        "        elif word == 'minus':\n",
        "            operators.append('-')\n",
        "        elif word == 'times':\n",
        "            operators.append('*')\n",
        "        elif word == 'divided':\n",
        "            operators.append('/')\n",
        "            i += 1  # Skip the word \"by\"\n",
        "        elif word == '(':\n",
        "            operators.append('(')\n",
        "        elif word == ')':\n",
        "            # Evaluate the expression until the parenthesis closes\n",
        "            while operators and operators[-1] != '(':\n",
        "                apply_operator()\n",
        "            operators.pop()\n",
        "        i += 1\n",
        "\n",
        "    # Apply remaining operators\n",
        "    while operators:\n",
        "        apply_operator()\n",
        "\n",
        "    return values[0]\n"
      ],
      "metadata": {
        "id": "db8mB0Y-WLnF"
      },
      "execution_count": null,
      "outputs": []
    },
    {
      "cell_type": "code",
      "source": [
        "num=5\n",
        "fact=1\n",
        "for i in range(1,num+1):\n",
        "  fact=fact*i\n",
        "print(fact)"
      ],
      "metadata": {
        "id": "9hw2duNHW35k",
        "colab": {
          "base_uri": "https://localhost:8080/"
        },
        "outputId": "3c6db9b7-7ab4-425d-9e80-7e83efb2efc6"
      },
      "execution_count": null,
      "outputs": [
        {
          "output_type": "stream",
          "name": "stdout",
          "text": [
            "120\n"
          ]
        }
      ]
    },
    {
      "cell_type": "code",
      "source": [
        "#file handling\n",
        "#writinf to a file\n",
        "file=open(\"student_record.txt\",\"w\") #write mode\n",
        "file.write(\"Ruhani,182,A+\\n\")\n",
        "file.write(\"bubu,183,A-\\n\")\n",
        "file.write(\"dudu,184,B\\n\")\n",
        "file.close()"
      ],
      "metadata": {
        "id": "4jI2LP6yTR3-"
      },
      "execution_count": null,
      "outputs": []
    },
    {
      "cell_type": "code",
      "source": [
        "file=open(\"student_record.txt\",\"w\")\n",
        "file.write(\"jojo,182,c\\n\") #contents are overwritten\n",
        "file.close()"
      ],
      "metadata": {
        "id": "r9V7yDwbVm8i"
      },
      "execution_count": null,
      "outputs": []
    },
    {
      "cell_type": "code",
      "source": [
        "file=open(\"student_record.txt\",\"a\") # append mode, adding in the last\n",
        "file.write(\"soso,282,c\\n\")\n",
        "file.close()"
      ],
      "metadata": {
        "id": "Ze8fwp-aWbVj"
      },
      "execution_count": null,
      "outputs": []
    },
    {
      "cell_type": "code",
      "source": [
        "file=open(\"student_record.txt\",\"r\") #reading the contents of the file, read mode\n",
        "contents=file.read()\n",
        "print(contents)\n",
        "file.close()"
      ],
      "metadata": {
        "colab": {
          "base_uri": "https://localhost:8080/"
        },
        "id": "XyxAvhDRW-Fh",
        "outputId": "532356d2-2924-451e-e20e-578a765a3830"
      },
      "execution_count": null,
      "outputs": [
        {
          "output_type": "stream",
          "name": "stdout",
          "text": [
            "jojo,182,c\n",
            "soso,282,c\n",
            "\n"
          ]
        }
      ]
    },
    {
      "cell_type": "code",
      "source": [
        "#reading the contents line by line\n",
        "file=open(\"student_record.txt\",\"r\")\n",
        "print(file.readline())\n",
        "print(file.readline())\n",
        "file.close()"
      ],
      "metadata": {
        "colab": {
          "base_uri": "https://localhost:8080/"
        },
        "id": "t2nHbEt_Xbil",
        "outputId": "4b34acf7-a313-4137-b4e8-91f1671ce5e6"
      },
      "execution_count": null,
      "outputs": [
        {
          "output_type": "stream",
          "name": "stdout",
          "text": [
            "jojo,182,c\n",
            "\n",
            "soso,282,c\n",
            "\n"
          ]
        }
      ]
    },
    {
      "cell_type": "code",
      "source": [
        "file=open(\"student_record.txt\",\"r\")\n",
        "for line in file:\n",
        "  print(line)\n",
        "file.close()"
      ],
      "metadata": {
        "colab": {
          "base_uri": "https://localhost:8080/"
        },
        "id": "T_xrKgJKX4xt",
        "outputId": "11472a32-4eca-4232-b614-c56263d88368"
      },
      "execution_count": null,
      "outputs": [
        {
          "output_type": "stream",
          "name": "stdout",
          "text": [
            "jojo,182,c\n",
            "\n",
            "soso,282,c\n",
            "\n"
          ]
        }
      ]
    },
    {
      "cell_type": "code",
      "source": [
        "file=open(\"student_record.txt\",\"r\")\n",
        "for line in file:\n",
        "  print(line.strip())#strip will remove the additional new line\n",
        "file.close()"
      ],
      "metadata": {
        "colab": {
          "base_uri": "https://localhost:8080/"
        },
        "id": "C5GZp-ukYSKc",
        "outputId": "191697fc-b18c-42bf-bf3f-2067863cfd11"
      },
      "execution_count": null,
      "outputs": [
        {
          "output_type": "stream",
          "name": "stdout",
          "text": [
            "jojo,182,c\n",
            "soso,282,c\n"
          ]
        }
      ]
    },
    {
      "cell_type": "code",
      "source": [
        "#working using with block\n",
        "\n",
        "with open(\"student_record.txt\",\"r\") as file:\n",
        "  for line in file:\n",
        "    print(line.strip())\n"
      ],
      "metadata": {
        "colab": {
          "base_uri": "https://localhost:8080/"
        },
        "id": "faXxauRpYbNF",
        "outputId": "060b9094-db88-4406-8d98-4838c4690a60"
      },
      "execution_count": null,
      "outputs": [
        {
          "output_type": "stream",
          "name": "stdout",
          "text": [
            "jojo,182,c\n",
            "soso,282,c\n"
          ]
        }
      ]
    },
    {
      "cell_type": "code",
      "source": [
        "with open(\"student_record.txt\",\"r\") as file:\n",
        "  for line in file:\n",
        "    print(line.strip())\n",
        "  file.write('helo.2.j')\n",
        "  print(\"----\")\n",
        "  for line in file:\n",
        "    print(line.strip())"
      ],
      "metadata": {
        "colab": {
          "base_uri": "https://localhost:8080/",
          "height": 245
        },
        "id": "OZpCDryCY37h",
        "outputId": "0f1b3549-1e2c-457a-940d-54cf012dfa13"
      },
      "execution_count": null,
      "outputs": [
        {
          "output_type": "stream",
          "name": "stdout",
          "text": [
            "jojo,182,c\n",
            "soso,282,c\n"
          ]
        },
        {
          "output_type": "error",
          "ename": "UnsupportedOperation",
          "evalue": "not writable",
          "traceback": [
            "\u001b[0;31m---------------------------------------------------------------------------\u001b[0m",
            "\u001b[0;31mUnsupportedOperation\u001b[0m                      Traceback (most recent call last)",
            "\u001b[0;32m<ipython-input-12-099d4a8aac61>\u001b[0m in \u001b[0;36m<cell line: 1>\u001b[0;34m()\u001b[0m\n\u001b[1;32m      2\u001b[0m   \u001b[0;32mfor\u001b[0m \u001b[0mline\u001b[0m \u001b[0;32min\u001b[0m \u001b[0mfile\u001b[0m\u001b[0;34m:\u001b[0m\u001b[0;34m\u001b[0m\u001b[0;34m\u001b[0m\u001b[0m\n\u001b[1;32m      3\u001b[0m     \u001b[0mprint\u001b[0m\u001b[0;34m(\u001b[0m\u001b[0mline\u001b[0m\u001b[0;34m.\u001b[0m\u001b[0mstrip\u001b[0m\u001b[0;34m(\u001b[0m\u001b[0;34m)\u001b[0m\u001b[0;34m)\u001b[0m\u001b[0;34m\u001b[0m\u001b[0;34m\u001b[0m\u001b[0m\n\u001b[0;32m----> 4\u001b[0;31m   \u001b[0mfile\u001b[0m\u001b[0;34m.\u001b[0m\u001b[0mwrite\u001b[0m\u001b[0;34m(\u001b[0m\u001b[0;34m'helo.2.j'\u001b[0m\u001b[0;34m)\u001b[0m\u001b[0;34m\u001b[0m\u001b[0;34m\u001b[0m\u001b[0m\n\u001b[0m\u001b[1;32m      5\u001b[0m   \u001b[0mprint\u001b[0m\u001b[0;34m(\u001b[0m\u001b[0;34m\"----\"\u001b[0m\u001b[0;34m)\u001b[0m\u001b[0;34m\u001b[0m\u001b[0;34m\u001b[0m\u001b[0m\n\u001b[1;32m      6\u001b[0m   \u001b[0;32mfor\u001b[0m \u001b[0mline\u001b[0m \u001b[0;32min\u001b[0m \u001b[0mfile\u001b[0m\u001b[0;34m:\u001b[0m\u001b[0;34m\u001b[0m\u001b[0;34m\u001b[0m\u001b[0m\n",
            "\u001b[0;31mUnsupportedOperation\u001b[0m: not writable"
          ]
        }
      ]
    },
    {
      "cell_type": "code",
      "source": [
        "with open(\"student_record.txt\",\"w\") as file:\n",
        "  for line in file:\n",
        "    print(line.strip())\n",
        "  file.write('helo.2.j')\n",
        "  print(\"----\")\n",
        "  for line in file:\n",
        "    print(line.strip())"
      ],
      "metadata": {
        "colab": {
          "base_uri": "https://localhost:8080/",
          "height": 211
        },
        "id": "_hHZmxLaZRBu",
        "outputId": "98247900-0c45-4260-c121-7425e111ddaa"
      },
      "execution_count": null,
      "outputs": [
        {
          "output_type": "error",
          "ename": "UnsupportedOperation",
          "evalue": "not readable",
          "traceback": [
            "\u001b[0;31m---------------------------------------------------------------------------\u001b[0m",
            "\u001b[0;31mUnsupportedOperation\u001b[0m                      Traceback (most recent call last)",
            "\u001b[0;32m<ipython-input-13-d800d5a2d15d>\u001b[0m in \u001b[0;36m<cell line: 1>\u001b[0;34m()\u001b[0m\n\u001b[1;32m      1\u001b[0m \u001b[0;32mwith\u001b[0m \u001b[0mopen\u001b[0m\u001b[0;34m(\u001b[0m\u001b[0;34m\"student_record.txt\"\u001b[0m\u001b[0;34m,\u001b[0m\u001b[0;34m\"w\"\u001b[0m\u001b[0;34m)\u001b[0m \u001b[0;32mas\u001b[0m \u001b[0mfile\u001b[0m\u001b[0;34m:\u001b[0m\u001b[0;34m\u001b[0m\u001b[0;34m\u001b[0m\u001b[0m\n\u001b[0;32m----> 2\u001b[0;31m   \u001b[0;32mfor\u001b[0m \u001b[0mline\u001b[0m \u001b[0;32min\u001b[0m \u001b[0mfile\u001b[0m\u001b[0;34m:\u001b[0m\u001b[0;34m\u001b[0m\u001b[0;34m\u001b[0m\u001b[0m\n\u001b[0m\u001b[1;32m      3\u001b[0m     \u001b[0mprint\u001b[0m\u001b[0;34m(\u001b[0m\u001b[0mline\u001b[0m\u001b[0;34m.\u001b[0m\u001b[0mstrip\u001b[0m\u001b[0;34m(\u001b[0m\u001b[0;34m)\u001b[0m\u001b[0;34m)\u001b[0m\u001b[0;34m\u001b[0m\u001b[0;34m\u001b[0m\u001b[0m\n\u001b[1;32m      4\u001b[0m   \u001b[0mfile\u001b[0m\u001b[0;34m.\u001b[0m\u001b[0mwrite\u001b[0m\u001b[0;34m(\u001b[0m\u001b[0;34m'helo.2.j'\u001b[0m\u001b[0;34m)\u001b[0m\u001b[0;34m\u001b[0m\u001b[0;34m\u001b[0m\u001b[0m\n\u001b[1;32m      5\u001b[0m   \u001b[0mprint\u001b[0m\u001b[0;34m(\u001b[0m\u001b[0;34m\"----\"\u001b[0m\u001b[0;34m)\u001b[0m\u001b[0;34m\u001b[0m\u001b[0;34m\u001b[0m\u001b[0m\n",
            "\u001b[0;31mUnsupportedOperation\u001b[0m: not readable"
          ]
        }
      ]
    },
    {
      "cell_type": "code",
      "source": [
        "with open(\"student_record.txt\",\"r\") as file:\n",
        "  for line in file:\n",
        "    print(line.strip())\n",
        "\n",
        "with open(\"student_record.txt\",\"a\") as file:\n",
        "  file.write(\"hh,23,a\\n\")\n",
        "\n",
        "\n",
        "with open(\"student_record.txt\",\"r\") as file:\n",
        "  for line in file:\n",
        "    print(line.strip())"
      ],
      "metadata": {
        "colab": {
          "base_uri": "https://localhost:8080/"
        },
        "id": "Gc7zRsygZVE6",
        "outputId": "de435bfc-9143-4742-8cb4-cb0a5eaf0bc2"
      },
      "execution_count": null,
      "outputs": [
        {
          "output_type": "stream",
          "name": "stdout",
          "text": [
            "hh,23,a\n"
          ]
        }
      ]
    },
    {
      "cell_type": "code",
      "source": [
        "#exception handling : in the case of file not present\n",
        "try:\n",
        "   with open(\"student_record1.txt\",\"r\") as file:\n",
        "    for line in file:\n",
        "      print(line.strip())\n",
        "except:\n",
        "  print(\"file not found\")\n",
        "\n",
        "  # https://colab.research.google.com/drive/1x-mf-vQH-lXhboDIM5aSSHJPzqUHtiEo?usp=sharing"
      ],
      "metadata": {
        "colab": {
          "base_uri": "https://localhost:8080/"
        },
        "id": "RqqvokY2ZlwP",
        "outputId": "3bd3757d-c9b7-4a39-b2d9-682ca1d3cffc"
      },
      "execution_count": null,
      "outputs": [
        {
          "output_type": "stream",
          "name": "stdout",
          "text": [
            "file not found\n"
          ]
        }
      ]
    },
    {
      "cell_type": "code",
      "source": [
        "#take input\n",
        "#string ip ( defaut)\n",
        "\n",
        "name=input(\"name?\")\n",
        "print(name)\n",
        "print(type(name))"
      ],
      "metadata": {
        "colab": {
          "base_uri": "https://localhost:8080/"
        },
        "id": "DTI1Chzlalfd",
        "outputId": "3b028410-679b-4568-dcb8-af214d97de13"
      },
      "execution_count": null,
      "outputs": [
        {
          "output_type": "stream",
          "name": "stdout",
          "text": [
            "name?ru\n",
            "ru\n",
            "<class 'str'>\n"
          ]
        }
      ]
    },
    {
      "cell_type": "code",
      "source": [
        "var1 = \"10\"\n",
        "print(type(var1))\n",
        "\n",
        "var = 10\n",
        "print(type(var))"
      ],
      "metadata": {
        "colab": {
          "base_uri": "https://localhost:8080/"
        },
        "id": "v51TiBrsbqsS",
        "outputId": "8142b8e5-9374-4168-cd7a-f8b96106effa"
      },
      "execution_count": null,
      "outputs": [
        {
          "output_type": "stream",
          "name": "stdout",
          "text": [
            "<class 'str'>\n",
            "<class 'int'>\n"
          ]
        }
      ]
    },
    {
      "cell_type": "code",
      "source": [
        "# int input\n",
        "age=int(input(\"0write age\"))\n",
        "print(age)\n",
        "print(type(age))"
      ],
      "metadata": {
        "colab": {
          "base_uri": "https://localhost:8080/"
        },
        "id": "lHOqqAJwcFRY",
        "outputId": "cf84bc74-49d7-4fd0-f282-1bd3a8d796b0"
      },
      "execution_count": null,
      "outputs": [
        {
          "output_type": "stream",
          "name": "stdout",
          "text": [
            "0write age22\n",
            "22\n",
            "<class 'int'>\n"
          ]
        }
      ]
    },
    {
      "cell_type": "code",
      "source": [
        "#gettki g float\n",
        "heigt=float(input(\"enter height\"))\n",
        "print(height)\n",
        "print(type(height))"
      ],
      "metadata": {
        "colab": {
          "base_uri": "https://localhost:8080/",
          "height": 211
        },
        "id": "PRzbowR9cX-Q",
        "outputId": "602719ee-32c2-4769-dfb2-16deef4ec10f"
      },
      "execution_count": null,
      "outputs": [
        {
          "name": "stdout",
          "output_type": "stream",
          "text": [
            "enter height4\n"
          ]
        },
        {
          "output_type": "error",
          "ename": "NameError",
          "evalue": "name 'height' is not defined",
          "traceback": [
            "\u001b[0;31m---------------------------------------------------------------------------\u001b[0m",
            "\u001b[0;31mNameError\u001b[0m                                 Traceback (most recent call last)",
            "\u001b[0;32m<ipython-input-33-4149aee2a328>\u001b[0m in \u001b[0;36m<cell line: 3>\u001b[0;34m()\u001b[0m\n\u001b[1;32m      1\u001b[0m \u001b[0;31m#gettki g float\u001b[0m\u001b[0;34m\u001b[0m\u001b[0;34m\u001b[0m\u001b[0m\n\u001b[1;32m      2\u001b[0m \u001b[0mheigt\u001b[0m\u001b[0;34m=\u001b[0m\u001b[0mfloat\u001b[0m\u001b[0;34m(\u001b[0m\u001b[0minput\u001b[0m\u001b[0;34m(\u001b[0m\u001b[0;34m\"enter height\"\u001b[0m\u001b[0;34m)\u001b[0m\u001b[0;34m)\u001b[0m\u001b[0;34m\u001b[0m\u001b[0;34m\u001b[0m\u001b[0m\n\u001b[0;32m----> 3\u001b[0;31m \u001b[0mprint\u001b[0m\u001b[0;34m(\u001b[0m\u001b[0mheight\u001b[0m\u001b[0;34m)\u001b[0m\u001b[0;34m\u001b[0m\u001b[0;34m\u001b[0m\u001b[0m\n\u001b[0m\u001b[1;32m      4\u001b[0m \u001b[0mprint\u001b[0m\u001b[0;34m(\u001b[0m\u001b[0mtype\u001b[0m\u001b[0;34m(\u001b[0m\u001b[0mheight\u001b[0m\u001b[0;34m)\u001b[0m\u001b[0;34m)\u001b[0m\u001b[0;34m\u001b[0m\u001b[0;34m\u001b[0m\u001b[0m\n",
            "\u001b[0;31mNameError\u001b[0m: name 'height' is not defined"
          ]
        }
      ]
    },
    {
      "cell_type": "code",
      "source": [
        "# take multiple input\n",
        "x,y,z=input(\"enter three numbers saparated by space\").split() #split for differentiating names\n",
        "print(x)\n",
        "print(y)\n",
        "print(z)\n",
        "print(type(x))\n",
        "print(type(y))\n",
        "print(type(z))"
      ],
      "metadata": {
        "colab": {
          "base_uri": "https://localhost:8080/"
        },
        "id": "OppTr5GncgnW",
        "outputId": "d636e712-162c-4c62-d821-d84084643e67"
      },
      "execution_count": null,
      "outputs": [
        {
          "output_type": "stream",
          "name": "stdout",
          "text": [
            "enter three numbers saparated by space12 34 56\n",
            "12\n",
            "34\n",
            "56\n",
            "<class 'str'>\n",
            "<class 'str'>\n",
            "<class 'str'>\n"
          ]
        }
      ]
    },
    {
      "cell_type": "code",
      "source": [
        "#map\n",
        "\n",
        "x,y,z=map(int,input(\"enter three numbers saparated by space\").split()) #split for differentiating names\n",
        "print(x)\n",
        "print(y)\n",
        "print(z)\n",
        "print(type(x))\n",
        "print(type(y))\n",
        "print(type(z))\n"
      ],
      "metadata": {
        "colab": {
          "base_uri": "https://localhost:8080/"
        },
        "id": "vkgbpWODc_YR",
        "outputId": "ba20b16f-3c50-4347-d517-74e380ee257b"
      },
      "execution_count": null,
      "outputs": [
        {
          "output_type": "stream",
          "name": "stdout",
          "text": [
            "enter three numbers saparated by space12 34 56\n",
            "12\n",
            "34\n",
            "56\n",
            "<class 'int'>\n",
            "<class 'int'>\n",
            "<class 'int'>\n"
          ]
        }
      ]
    },
    {
      "cell_type": "code",
      "source": [
        "#multiple input on multiple lines\n",
        "num=[]\n",
        "\n",
        "for i in range(5):\n",
        "  num=int(input(f\"enter the {i+1} number\"))\n",
        "  number.append(num)\n",
        "print(numbers)\n",
        "\n",
        "# chatgpt"
      ],
      "metadata": {
        "colab": {
          "base_uri": "https://localhost:8080/",
          "height": 228
        },
        "id": "SKfJsK3TdwbL",
        "outputId": "e1a699db-6714-4dd7-cbfc-2dc08e1c8775"
      },
      "execution_count": null,
      "outputs": [
        {
          "name": "stdout",
          "output_type": "stream",
          "text": [
            "enter the 1 number3\n"
          ]
        },
        {
          "output_type": "error",
          "ename": "NameError",
          "evalue": "name 'number' is not defined",
          "traceback": [
            "\u001b[0;31m---------------------------------------------------------------------------\u001b[0m",
            "\u001b[0;31mNameError\u001b[0m                                 Traceback (most recent call last)",
            "\u001b[0;32m<ipython-input-47-fb3079140435>\u001b[0m in \u001b[0;36m<cell line: 4>\u001b[0;34m()\u001b[0m\n\u001b[1;32m      4\u001b[0m \u001b[0;32mfor\u001b[0m \u001b[0mi\u001b[0m \u001b[0;32min\u001b[0m \u001b[0mrange\u001b[0m\u001b[0;34m(\u001b[0m\u001b[0;36m5\u001b[0m\u001b[0;34m)\u001b[0m\u001b[0;34m:\u001b[0m\u001b[0;34m\u001b[0m\u001b[0;34m\u001b[0m\u001b[0m\n\u001b[1;32m      5\u001b[0m   \u001b[0mnum\u001b[0m\u001b[0;34m=\u001b[0m\u001b[0mint\u001b[0m\u001b[0;34m(\u001b[0m\u001b[0minput\u001b[0m\u001b[0;34m(\u001b[0m\u001b[0;34mf\"enter the {i+1} number\"\u001b[0m\u001b[0;34m)\u001b[0m\u001b[0;34m)\u001b[0m\u001b[0;34m\u001b[0m\u001b[0;34m\u001b[0m\u001b[0m\n\u001b[0;32m----> 6\u001b[0;31m   \u001b[0mnumber\u001b[0m\u001b[0;34m.\u001b[0m\u001b[0mappend\u001b[0m\u001b[0;34m(\u001b[0m\u001b[0mnum\u001b[0m\u001b[0;34m)\u001b[0m\u001b[0;34m\u001b[0m\u001b[0;34m\u001b[0m\u001b[0m\n\u001b[0m\u001b[1;32m      7\u001b[0m \u001b[0mprint\u001b[0m\u001b[0;34m(\u001b[0m\u001b[0mnumbers\u001b[0m\u001b[0;34m)\u001b[0m\u001b[0;34m\u001b[0m\u001b[0;34m\u001b[0m\u001b[0m\n\u001b[1;32m      8\u001b[0m \u001b[0;34m\u001b[0m\u001b[0m\n",
            "\u001b[0;31mNameError\u001b[0m: name 'number' is not defined"
          ]
        }
      ]
    },
    {
      "cell_type": "code",
      "source": [
        "number = list(map(int,input(\"enter the number separated by space\").split()))\n",
        "print(number)\n"
      ],
      "metadata": {
        "colab": {
          "base_uri": "https://localhost:8080/"
        },
        "id": "Mb4dw5b9ey4H",
        "outputId": "a715d7db-8f52-45ad-94d9-cfc5fbdc2838"
      },
      "execution_count": null,
      "outputs": [
        {
          "output_type": "stream",
          "name": "stdout",
          "text": [
            "enter the number separated by space1 2 3 4 5 6 7 8 9 \n",
            "[1, 2, 3, 4, 5, 6, 7, 8, 9]\n"
          ]
        }
      ]
    },
    {
      "cell_type": "code",
      "source": [
        "age=int(input(\"write age\"))\n",
        "print(age)\n",
        "print(type(age))"
      ],
      "metadata": {
        "colab": {
          "base_uri": "https://localhost:8080/"
        },
        "id": "nuy6EwiDfrO1",
        "outputId": "f2cf4dae-a60b-4390-fb05-3d215f589957"
      },
      "execution_count": null,
      "outputs": [
        {
          "output_type": "stream",
          "name": "stdout",
          "text": [
            "write age-5\n",
            "-5\n",
            "<class 'int'>\n"
          ]
        }
      ]
    },
    {
      "cell_type": "code",
      "source": [
        "#ip validation\n",
        "\n",
        "while True:\n",
        "  age=input(\"write age\")\n",
        "  if age.isdigit() and int(age)>0:  # isdigit is function\n",
        "    age=int(age)\n",
        "    break\n",
        "  else:\n",
        "    print(\"invalid age\")\n",
        "print(age)\n",
        "print(type(age))"
      ],
      "metadata": {
        "colab": {
          "base_uri": "https://localhost:8080/"
        },
        "id": "NPku6U7mf6rg",
        "outputId": "d0ce787e-d07a-47e6-9f23-a7ef1d5a2c49"
      },
      "execution_count": null,
      "outputs": [
        {
          "output_type": "stream",
          "name": "stdout",
          "text": [
            "write age\n",
            "invalid age\n",
            "write age-3\n",
            "invalid age\n",
            "write age0\n",
            "invalid age\n",
            "write agesdfg\n",
            "invalid age\n",
            "write age2\n",
            "2\n",
            "<class 'int'>\n"
          ]
        }
      ]
    },
    {
      "cell_type": "code",
      "source": [
        "def sqr(x):\n",
        "  return x**2\n",
        "v=list(map(sqr, range(5)))\n",
        "print(v)"
      ],
      "metadata": {
        "colab": {
          "base_uri": "https://localhost:8080/"
        },
        "id": "P_w8NXAIgfoH",
        "outputId": "d1cb6cec-dd15-44d2-e414-535ef94f45da"
      },
      "execution_count": null,
      "outputs": [
        {
          "output_type": "stream",
          "name": "stdout",
          "text": [
            "[0, 1, 4, 9, 16]\n"
          ]
        }
      ]
    },
    {
      "cell_type": "code",
      "source": [
        "# read, append, write(overwriting)\n"
      ],
      "metadata": {
        "id": "eWtbnRXZiUIU"
      },
      "execution_count": null,
      "outputs": []
    },
    {
      "cell_type": "markdown",
      "source": [
        "session 4"
      ],
      "metadata": {
        "id": "gNru0WqmokaQ"
      }
    },
    {
      "cell_type": "code",
      "source": [
        "#ceaser's cipher\n",
        "ord(\"a\")  # ascii value\n",
        "\n",
        "chr(97)"
      ],
      "metadata": {
        "colab": {
          "base_uri": "https://localhost:8080/",
          "height": 36
        },
        "id": "h-eM5yshol8O",
        "outputId": "1dddb66f-edc3-4e1d-c6bc-af3b3820e629"
      },
      "execution_count": null,
      "outputs": [
        {
          "output_type": "execute_result",
          "data": {
            "text/plain": [
              "'a'"
            ],
            "application/vnd.google.colaboratory.intrinsic+json": {
              "type": "string"
            }
          },
          "metadata": {},
          "execution_count": 4
        }
      ]
    },
    {
      "cell_type": "code",
      "source": [
        "file1=open(\"message.txt\",\"w\")\n",
        "file1.write(\"abd\")"
      ],
      "metadata": {
        "colab": {
          "base_uri": "https://localhost:8080/"
        },
        "id": "H9ZurVlFqWXW",
        "outputId": "f3dc9b69-6279-4c0b-ef76-db78242ced75"
      },
      "execution_count": null,
      "outputs": [
        {
          "output_type": "execute_result",
          "data": {
            "text/plain": [
              "3"
            ]
          },
          "metadata": {},
          "execution_count": 31
        }
      ]
    },
    {
      "cell_type": "code",
      "source": [
        "def message_encrypt(text, shift):\n",
        "  encrypted_text = \"\"  # Initialize encrypted_text here\n",
        "  for char in text:\n",
        "    if char.isalpha():# if its alphabet\n",
        "      shift = shift % 26\n",
        "      if char.islower():\n",
        "        encrypted_char = chr(ord(\"a\") + (ord(char) - ord(\"a\") + shift) % 26)\n",
        "      else:\n",
        "        encrypted_char = chr(ord(\"A\") + (ord(char) - ord(\"A\") + shift) % 26)\n",
        "      encrypted_text += encrypted_char # Append to the existing variable\n",
        "    else:\n",
        "      encrypted_text += char # Append to the existing variable\n",
        "  return encrypted_text"
      ],
      "metadata": {
        "id": "U1IanMcZr0yr"
      },
      "execution_count": null,
      "outputs": []
    },
    {
      "cell_type": "code",
      "source": [
        "with open(\"message.txt\",\"r\") as file1:\n",
        "  plain_text=file1.read()\n",
        "print(plain_text)"
      ],
      "metadata": {
        "colab": {
          "base_uri": "https://localhost:8080/"
        },
        "id": "Wrd-nLj6qm_a",
        "outputId": "511c3283-801f-47e1-e530-2fb08d5a8870"
      },
      "execution_count": null,
      "outputs": [
        {
          "output_type": "stream",
          "name": "stdout",
          "text": [
            "\n"
          ]
        }
      ]
    },
    {
      "cell_type": "code",
      "source": [
        "shift=3\n",
        "encrypted_text=message_encrypt(plain_text,shift)\n",
        "print(encrypted_text)"
      ],
      "metadata": {
        "colab": {
          "base_uri": "https://localhost:8080/"
        },
        "id": "gVoxaWhorvY4",
        "outputId": "1c61d3b2-8ca9-49a3-a54d-013aa3a3f3a9"
      },
      "execution_count": null,
      "outputs": [
        {
          "output_type": "stream",
          "name": "stdout",
          "text": [
            "\n"
          ]
        }
      ]
    },
    {
      "cell_type": "code",
      "source": [
        "decrypted_text=message_encrypt(encrypted_text,-shift)\n",
        "print(decrypted_text)"
      ],
      "metadata": {
        "colab": {
          "base_uri": "https://localhost:8080/"
        },
        "id": "FPW3SOjpse-V",
        "outputId": "3b4cc14a-cba0-4c33-87f1-a68cf8f9e5b5"
      },
      "execution_count": null,
      "outputs": [
        {
          "output_type": "stream",
          "name": "stdout",
          "text": [
            "\n"
          ]
        }
      ]
    },
    {
      "cell_type": "code",
      "source": [
        "from re import T\n",
        "#tuples: collection of items which are ordered, allow duplicates and not changable\n",
        "\n",
        "var1=(1,2.5,\"hi\",True) # usw () in tuple\n",
        "print(var1)\n",
        "print(type(var1))"
      ],
      "metadata": {
        "colab": {
          "base_uri": "https://localhost:8080/"
        },
        "id": "LNhe8KNDtP50",
        "outputId": "9e64e3de-e891-4814-8df2-d8b41254e9f0"
      },
      "execution_count": null,
      "outputs": [
        {
          "output_type": "stream",
          "name": "stdout",
          "text": [
            "(1, 2.5, 'hi', True)\n",
            "<class 'tuple'>\n"
          ]
        }
      ]
    },
    {
      "cell_type": "code",
      "source": [
        "var1=(1,4,7,3,9)\n",
        "print(var1)\n",
        "print(var1[0])\n",
        "print(var1[4])\n",
        "print(var1[-1]) # acces by indexs"
      ],
      "metadata": {
        "colab": {
          "base_uri": "https://localhost:8080/"
        },
        "id": "GqWOdiXLuLrK",
        "outputId": "b973bcc9-5954-4122-e8dd-c74e43c160ed"
      },
      "execution_count": null,
      "outputs": [
        {
          "output_type": "stream",
          "name": "stdout",
          "text": [
            "(1, 4, 7, 3, 9)\n",
            "1\n",
            "9\n",
            "9\n"
          ]
        }
      ]
    },
    {
      "cell_type": "code",
      "source": [
        "var1=(1,4,7,4,5,7,8,3)\n",
        "print(var1)"
      ],
      "metadata": {
        "colab": {
          "base_uri": "https://localhost:8080/"
        },
        "id": "pV4zYZQcuY2v",
        "outputId": "75259c27-d7b9-486c-c32c-ac4fee83365a"
      },
      "execution_count": null,
      "outputs": [
        {
          "output_type": "stream",
          "name": "stdout",
          "text": [
            "(1, 4, 7, 4, 5, 7, 8, 3)\n"
          ]
        }
      ]
    },
    {
      "cell_type": "code",
      "source": [
        "var1[2]=100 # not changable"
      ],
      "metadata": {
        "colab": {
          "base_uri": "https://localhost:8080/",
          "height": 141
        },
        "id": "-DVH2dDNulhx",
        "outputId": "e45f12cf-1cf6-48a7-ecc6-77a67bf3c55a"
      },
      "execution_count": null,
      "outputs": [
        {
          "output_type": "error",
          "ename": "TypeError",
          "evalue": "'tuple' object does not support item assignment",
          "traceback": [
            "\u001b[0;31m---------------------------------------------------------------------------\u001b[0m",
            "\u001b[0;31mTypeError\u001b[0m                                 Traceback (most recent call last)",
            "\u001b[0;32m<ipython-input-43-7d8bc40d9aed>\u001b[0m in \u001b[0;36m<cell line: 1>\u001b[0;34m()\u001b[0m\n\u001b[0;32m----> 1\u001b[0;31m \u001b[0mvar1\u001b[0m\u001b[0;34m[\u001b[0m\u001b[0;36m2\u001b[0m\u001b[0;34m]\u001b[0m\u001b[0;34m=\u001b[0m\u001b[0;36m100\u001b[0m \u001b[0;31m# not changable\u001b[0m\u001b[0;34m\u001b[0m\u001b[0;34m\u001b[0m\u001b[0m\n\u001b[0m",
            "\u001b[0;31mTypeError\u001b[0m: 'tuple' object does not support item assignment"
          ]
        }
      ]
    },
    {
      "cell_type": "code",
      "source": [
        "#single elemnt tuple\n",
        "var1=(1,) # give comma\n",
        "print(var1)\n",
        "print(type(var1))"
      ],
      "metadata": {
        "colab": {
          "base_uri": "https://localhost:8080/"
        },
        "id": "9Jgqgx7CuyP2",
        "outputId": "4aab4372-a39c-4583-ebf1-d9ba1b519e87"
      },
      "execution_count": null,
      "outputs": [
        {
          "output_type": "stream",
          "name": "stdout",
          "text": [
            "(1,)\n",
            "<class 'tuple'>\n"
          ]
        }
      ]
    },
    {
      "cell_type": "code",
      "source": [
        "var1=(1) # will cosider as int\n",
        "print(var1)\n",
        "print(type(var1))"
      ],
      "metadata": {
        "colab": {
          "base_uri": "https://localhost:8080/"
        },
        "id": "2AaE2Le8vOxW",
        "outputId": "0696141e-6ece-41d1-d44a-4a914c0ef5a0"
      },
      "execution_count": null,
      "outputs": [
        {
          "output_type": "stream",
          "name": "stdout",
          "text": [
            "1\n",
            "<class 'int'>\n"
          ]
        }
      ]
    },
    {
      "cell_type": "code",
      "source": [
        "#concatenate of list and tupple\n",
        "var1=(1,2,3)\n",
        "var2=(4,5,6)\n",
        "print(var1+var2)\n",
        "print(var1,var2)"
      ],
      "metadata": {
        "colab": {
          "base_uri": "https://localhost:8080/"
        },
        "id": "Aproj1EavWyY",
        "outputId": "1904197c-a966-4ea2-a47b-e41c28fafe65"
      },
      "execution_count": null,
      "outputs": [
        {
          "output_type": "stream",
          "name": "stdout",
          "text": [
            "(1, 2, 3, 4, 5, 6)\n",
            "(1, 2, 3) (4, 5, 6)\n"
          ]
        }
      ]
    },
    {
      "cell_type": "code",
      "source": [
        "var1=[1,2,3]\n",
        "var2=[4,5,6]\n",
        "print(var1+var2)"
      ],
      "metadata": {
        "colab": {
          "base_uri": "https://localhost:8080/"
        },
        "id": "cYz2aSX2v5tm",
        "outputId": "4da8af60-8b69-4dd7-c28e-6d0238b2dbb4"
      },
      "execution_count": null,
      "outputs": [
        {
          "output_type": "stream",
          "name": "stdout",
          "text": [
            "[1, 2, 3, 4, 5, 6]\n"
          ]
        }
      ]
    },
    {
      "cell_type": "code",
      "source": [
        "#repitation\n",
        "var1=(1,2,3)\n",
        "print(var1*3) # not multiply its repatation\n",
        "\n",
        "var2=[1,2,3]\n",
        "print(var2*3)"
      ],
      "metadata": {
        "colab": {
          "base_uri": "https://localhost:8080/"
        },
        "id": "03UtvEpwwDMs",
        "outputId": "05aa77cc-1b05-4c07-f628-e22e820fd36d"
      },
      "execution_count": null,
      "outputs": [
        {
          "output_type": "stream",
          "name": "stdout",
          "text": [
            "(1, 2, 3, 1, 2, 3, 1, 2, 3)\n",
            "[1, 2, 3, 1, 2, 3, 1, 2, 3]\n"
          ]
        }
      ]
    },
    {
      "cell_type": "code",
      "source": [
        "#nasted tuples\n",
        "var1=(1,2,3,(4,5,6))\n",
        "print(var1)\n",
        "print(var1[3])\n",
        "print(var1[3][1])"
      ],
      "metadata": {
        "colab": {
          "base_uri": "https://localhost:8080/"
        },
        "id": "ckaT9kFawT4D",
        "outputId": "c56c775b-ed5e-4531-e895-07b85493f2d9"
      },
      "execution_count": null,
      "outputs": [
        {
          "output_type": "stream",
          "name": "stdout",
          "text": [
            "(1, 2, 3, (4, 5, 6))\n",
            "(4, 5, 6)\n",
            "5\n"
          ]
        }
      ]
    },
    {
      "cell_type": "code",
      "source": [
        "va1=(1,2,[3,6])\n",
        "print(va1)"
      ],
      "metadata": {
        "colab": {
          "base_uri": "https://localhost:8080/"
        },
        "id": "p5eDgeA2wkxo",
        "outputId": "5509ae7b-b027-402b-f989-251e7b2709da"
      },
      "execution_count": null,
      "outputs": [
        {
          "output_type": "stream",
          "name": "stdout",
          "text": [
            "(1, 2, [3, 6])\n"
          ]
        }
      ]
    },
    {
      "cell_type": "code",
      "source": [
        "va1[2][1]=100\n",
        "print(va1)"
      ],
      "metadata": {
        "colab": {
          "base_uri": "https://localhost:8080/"
        },
        "id": "wlyq3iwow7Cj",
        "outputId": "56bc8726-e920-41a8-f0eb-fbba9043cbee"
      },
      "execution_count": null,
      "outputs": [
        {
          "output_type": "stream",
          "name": "stdout",
          "text": [
            "(1, 2, [3, 100])\n"
          ]
        }
      ]
    },
    {
      "cell_type": "code",
      "source": [
        "var2=[1,2,(3,5)]\n",
        "var2[2][1]=100\n",
        "print(var2)"
      ],
      "metadata": {
        "colab": {
          "base_uri": "https://localhost:8080/",
          "height": 176
        },
        "id": "-rpzwZo6xJLm",
        "outputId": "b278b816-c3c9-4ae4-d47b-dd7d497aaf23"
      },
      "execution_count": null,
      "outputs": [
        {
          "output_type": "error",
          "ename": "TypeError",
          "evalue": "'tuple' object does not support item assignment",
          "traceback": [
            "\u001b[0;31m---------------------------------------------------------------------------\u001b[0m",
            "\u001b[0;31mTypeError\u001b[0m                                 Traceback (most recent call last)",
            "\u001b[0;32m<ipython-input-61-8877bd0576e6>\u001b[0m in \u001b[0;36m<cell line: 2>\u001b[0;34m()\u001b[0m\n\u001b[1;32m      1\u001b[0m \u001b[0mvar2\u001b[0m\u001b[0;34m=\u001b[0m\u001b[0;34m[\u001b[0m\u001b[0;36m1\u001b[0m\u001b[0;34m,\u001b[0m\u001b[0;36m2\u001b[0m\u001b[0;34m,\u001b[0m\u001b[0;34m(\u001b[0m\u001b[0;36m3\u001b[0m\u001b[0;34m,\u001b[0m\u001b[0;36m5\u001b[0m\u001b[0;34m)\u001b[0m\u001b[0;34m]\u001b[0m\u001b[0;34m\u001b[0m\u001b[0;34m\u001b[0m\u001b[0m\n\u001b[0;32m----> 2\u001b[0;31m \u001b[0mvar2\u001b[0m\u001b[0;34m[\u001b[0m\u001b[0;36m2\u001b[0m\u001b[0;34m]\u001b[0m\u001b[0;34m[\u001b[0m\u001b[0;36m1\u001b[0m\u001b[0;34m]\u001b[0m\u001b[0;34m=\u001b[0m\u001b[0;36m100\u001b[0m\u001b[0;34m\u001b[0m\u001b[0;34m\u001b[0m\u001b[0m\n\u001b[0m\u001b[1;32m      3\u001b[0m \u001b[0mprint\u001b[0m\u001b[0;34m(\u001b[0m\u001b[0mvar2\u001b[0m\u001b[0;34m)\u001b[0m\u001b[0;34m\u001b[0m\u001b[0;34m\u001b[0m\u001b[0m\n",
            "\u001b[0;31mTypeError\u001b[0m: 'tuple' object does not support item assignment"
          ]
        }
      ]
    },
    {
      "cell_type": "code",
      "source": [
        "#dictionaries: collection od data in terms of key:value pair\n",
        "#ordred by keys, changable and does not allow duplicates\n",
        "var1={\"name\":\"ruhani\",\n",
        "      \"age\":20,\n",
        "      \"roll\":2201760} # use { }\n",
        "print(var1)\n",
        "print(type(var1))"
      ],
      "metadata": {
        "colab": {
          "base_uri": "https://localhost:8080/"
        },
        "id": "Bo6Rgv4Dxacr",
        "outputId": "3d05e6fd-3e2b-47b1-f488-1ce63691046b"
      },
      "execution_count": null,
      "outputs": [
        {
          "output_type": "stream",
          "name": "stdout",
          "text": [
            "{'name': 'ruhani', 'age': 20, 'roll': 2201760}\n",
            "<class 'dict'>\n"
          ]
        }
      ]
    },
    {
      "cell_type": "code",
      "source": [
        "var1[\"name\"] #indexed with keys"
      ],
      "metadata": {
        "colab": {
          "base_uri": "https://localhost:8080/",
          "height": 36
        },
        "id": "GPEYEe9PxgAT",
        "outputId": "d9858feb-2fb9-47fa-8032-1dd6f3f0d95e"
      },
      "execution_count": null,
      "outputs": [
        {
          "output_type": "execute_result",
          "data": {
            "text/plain": [
              "'ruhani'"
            ],
            "application/vnd.google.colaboratory.intrinsic+json": {
              "type": "string"
            }
          },
          "metadata": {},
          "execution_count": 71
        }
      ]
    },
    {
      "cell_type": "code",
      "source": [
        "var1[\"age\"]=33\n",
        "print(var1)"
      ],
      "metadata": {
        "colab": {
          "base_uri": "https://localhost:8080/"
        },
        "id": "sIj8SVGqy2Io",
        "outputId": "3b5759a8-ad6e-47bc-eab4-5f36319e8551"
      },
      "execution_count": null,
      "outputs": [
        {
          "output_type": "stream",
          "name": "stdout",
          "text": [
            "{'name': 'ruhani', 'age': 33, 'roll': 2201760}\n"
          ]
        }
      ]
    },
    {
      "cell_type": "code",
      "source": [
        "var1={\"name\":\"ruhani\",\n",
        "      \"age\":20,\n",
        "      \"roll\":2201760,\n",
        "      \"name\":\"bubu\"} #does not allow duplicates\n",
        "print(var1)"
      ],
      "metadata": {
        "colab": {
          "base_uri": "https://localhost:8080/"
        },
        "id": "5MvJymoazHbg",
        "outputId": "9c9111be-aa14-4ba2-a9ed-5338daf07493"
      },
      "execution_count": null,
      "outputs": [
        {
          "output_type": "stream",
          "name": "stdout",
          "text": [
            "{'name': 'bubu', 'age': 20, 'roll': 2201760}\n"
          ]
        }
      ]
    },
    {
      "cell_type": "code",
      "source": [
        "#how to add new key:value paie\n",
        "var1[\"gender\"]=\"female\"\n",
        "print(var1)"
      ],
      "metadata": {
        "colab": {
          "base_uri": "https://localhost:8080/"
        },
        "id": "5Be_CbVOzhP7",
        "outputId": "bcdf4d97-8eb4-4099-af92-84ee1550ccc6"
      },
      "execution_count": null,
      "outputs": [
        {
          "output_type": "stream",
          "name": "stdout",
          "text": [
            "{'name': 'bubu', 'age': 20, 'roll': 2201760, 'gender': 'female'}\n"
          ]
        }
      ]
    },
    {
      "cell_type": "code",
      "source": [
        "# accesing value throung get()\n",
        "print(var1.get(\"name\"))"
      ],
      "metadata": {
        "colab": {
          "base_uri": "https://localhost:8080/"
        },
        "id": "uL5SvnROz5_V",
        "outputId": "2c28824f-dc69-4672-af83-ba1e957abcda"
      },
      "execution_count": null,
      "outputs": [
        {
          "output_type": "stream",
          "name": "stdout",
          "text": [
            "bubu\n"
          ]
        }
      ]
    },
    {
      "cell_type": "code",
      "source": [
        "#removing element\n",
        "var1.pop(\"age\")\n",
        "print(var1)"
      ],
      "metadata": {
        "colab": {
          "base_uri": "https://localhost:8080/"
        },
        "id": "HuUAvluH0M90",
        "outputId": "2663556d-3d1c-49e2-b342-9fa2f01a3167"
      },
      "execution_count": null,
      "outputs": [
        {
          "output_type": "stream",
          "name": "stdout",
          "text": [
            "{'name': 'bubu', 'roll': 2201760, 'gender': 'female'}\n"
          ]
        }
      ]
    },
    {
      "cell_type": "code",
      "source": [
        "# usi ng popitem()\n",
        "var1.popitem() # remov the last item\n",
        "print(var1)"
      ],
      "metadata": {
        "colab": {
          "base_uri": "https://localhost:8080/"
        },
        "id": "HCli03Yk0SGB",
        "outputId": "4eb5a495-928d-432f-99b5-25c55741416e"
      },
      "execution_count": null,
      "outputs": [
        {
          "output_type": "stream",
          "name": "stdout",
          "text": [
            "{'name': 'bubu', 'roll': 2201760}\n"
          ]
        }
      ]
    },
    {
      "cell_type": "code",
      "source": [
        "#clear the dict\n",
        "var1.clear() # valies will bw cleared\n",
        "print(var1)"
      ],
      "metadata": {
        "colab": {
          "base_uri": "https://localhost:8080/"
        },
        "id": "5DG4FTH40fxL",
        "outputId": "37aa7281-99e2-4877-c2a3-ba9bdfa94bd5"
      },
      "execution_count": null,
      "outputs": [
        {
          "output_type": "stream",
          "name": "stdout",
          "text": [
            "{}\n"
          ]
        }
      ]
    },
    {
      "cell_type": "code",
      "source": [
        "var1={\"name\":\"ruhani\",\n",
        "      \"age\":20,\n",
        "      \"roll\":2201760}\n",
        "print(var1)"
      ],
      "metadata": {
        "colab": {
          "base_uri": "https://localhost:8080/"
        },
        "id": "F4H0J_bZ0vN6",
        "outputId": "e269618c-3be8-4fca-f26a-af5884141850"
      },
      "execution_count": null,
      "outputs": [
        {
          "output_type": "stream",
          "name": "stdout",
          "text": [
            "{'name': 'ruhani', 'age': 20, 'roll': 2201760}\n"
          ]
        }
      ]
    },
    {
      "cell_type": "code",
      "source": [
        "t1=var1.keys()\n",
        "print(t1)\n",
        "print(type(t1)) #provide collection of keys\n"
      ],
      "metadata": {
        "colab": {
          "base_uri": "https://localhost:8080/"
        },
        "id": "_KIy0DZc06QQ",
        "outputId": "64b3500f-fb4a-4177-d66f-c1b1207e08be"
      },
      "execution_count": null,
      "outputs": [
        {
          "output_type": "stream",
          "name": "stdout",
          "text": [
            "dict_keys(['name', 'age', 'roll'])\n",
            "<class 'dict_keys'>\n"
          ]
        }
      ]
    },
    {
      "cell_type": "code",
      "source": [
        "# collection of all valie\n",
        "t2=var1.values()\n",
        "print(t2)\n",
        "print(type(t2))"
      ],
      "metadata": {
        "colab": {
          "base_uri": "https://localhost:8080/"
        },
        "id": "gS94h-UW1SKf",
        "outputId": "ffd0b383-f431-4755-d1a5-456ff9ef8d20"
      },
      "execution_count": null,
      "outputs": [
        {
          "output_type": "stream",
          "name": "stdout",
          "text": [
            "dict_values(['ruhani', 20, 2201760])\n",
            "<class 'dict_values'>\n"
          ]
        }
      ]
    },
    {
      "cell_type": "code",
      "source": [],
      "metadata": {
        "colab": {
          "base_uri": "https://localhost:8080/",
          "height": 176
        },
        "id": "t3AJdDXg1fcj",
        "outputId": "136a4287-8368-4731-ff6d-2b043e579a80"
      },
      "execution_count": null,
      "outputs": [
        {
          "output_type": "error",
          "ename": "NameError",
          "evalue": "name 't' is not defined",
          "traceback": [
            "\u001b[0;31m---------------------------------------------------------------------------\u001b[0m",
            "\u001b[0;31mNameError\u001b[0m                                 Traceback (most recent call last)",
            "\u001b[0;32m<ipython-input-93-ca7f89beec19>\u001b[0m in \u001b[0;36m<cell line: 2>\u001b[0;34m()\u001b[0m\n\u001b[1;32m      1\u001b[0m \u001b[0mt3\u001b[0m\u001b[0;34m=\u001b[0m\u001b[0mvar1\u001b[0m\u001b[0;34m.\u001b[0m\u001b[0mvalues\u001b[0m\u001b[0;34m(\u001b[0m\u001b[0;34m)\u001b[0m\u001b[0;34m\u001b[0m\u001b[0;34m\u001b[0m\u001b[0m\n\u001b[0;32m----> 2\u001b[0;31m \u001b[0mprint\u001b[0m\u001b[0;34m(\u001b[0m\u001b[0mt\u001b[0m\u001b[0;34m)\u001b[0m\u001b[0;34m\u001b[0m\u001b[0;34m\u001b[0m\u001b[0m\n\u001b[0m\u001b[1;32m      3\u001b[0m \u001b[0mprint\u001b[0m\u001b[0;34m(\u001b[0m\u001b[0mtype\u001b[0m\u001b[0;34m(\u001b[0m\u001b[0mt\u001b[0m\u001b[0;34m)\u001b[0m\u001b[0;34m)\u001b[0m\u001b[0;34m\u001b[0m\u001b[0;34m\u001b[0m\u001b[0m\n",
            "\u001b[0;31mNameError\u001b[0m: name 't' is not defined"
          ]
        }
      ]
    },
    {
      "cell_type": "code",
      "source": [
        "#list comprehension\n",
        "# systax\n",
        "# new_list=[expression for i in iterable condition == True]\n",
        "\n",
        "var1=[i**2 for i in range(10) if i%2==0]\n",
        "print(var1)"
      ],
      "metadata": {
        "colab": {
          "base_uri": "https://localhost:8080/"
        },
        "id": "cQvWipDk15fp",
        "outputId": "0f3f8a3a-6a49-42cb-cc41-d653e5d93f79"
      },
      "execution_count": null,
      "outputs": [
        {
          "output_type": "stream",
          "name": "stdout",
          "text": [
            "[0, 4, 16, 36, 64]\n"
          ]
        }
      ]
    },
    {
      "cell_type": "code",
      "source": [
        "var2=[i//2 for i in range(2,50,3)] # if no condition , expression is evaluated for all the values\n",
        "print(var2)"
      ],
      "metadata": {
        "colab": {
          "base_uri": "https://localhost:8080/"
        },
        "id": "Uz1U6f7A2nVo",
        "outputId": "321ef29d-61b4-4bd7-8539-dc6245822659"
      },
      "execution_count": null,
      "outputs": [
        {
          "output_type": "stream",
          "name": "stdout",
          "text": [
            "[1, 2, 4, 5, 7, 8, 10, 11, 13, 14, 16, 17, 19, 20, 22, 23]\n"
          ]
        }
      ]
    },
    {
      "cell_type": "code",
      "source": [
        "# dictionary comprehension\n",
        "var1={i:i**2 for i in range(10) if i%2==0}\n",
        "print(var1)"
      ],
      "metadata": {
        "colab": {
          "base_uri": "https://localhost:8080/"
        },
        "id": "3gok-tqV3KDF",
        "outputId": "62c0e945-28cf-4c3f-eb38-5544833b467d"
      },
      "execution_count": null,
      "outputs": [
        {
          "output_type": "stream",
          "name": "stdout",
          "text": [
            "{0: 0, 2: 4, 4: 16, 6: 36, 8: 64}\n"
          ]
        }
      ]
    },
    {
      "cell_type": "code",
      "source": [
        "var2={i:chr(65+i) for i in range(26)}\n",
        "print(var2)"
      ],
      "metadata": {
        "colab": {
          "base_uri": "https://localhost:8080/"
        },
        "id": "uiFENuXB4ECK",
        "outputId": "22acd2b1-9050-437d-e2b7-6a78cf9e6467"
      },
      "execution_count": null,
      "outputs": [
        {
          "output_type": "stream",
          "name": "stdout",
          "text": [
            "{0: 'A', 1: 'B', 2: 'C', 3: 'D', 4: 'E', 5: 'F', 6: 'G', 7: 'H', 8: 'I', 9: 'J', 10: 'K', 11: 'L', 12: 'M', 13: 'N', 14: 'O', 15: 'P', 16: 'Q', 17: 'R', 18: 'S', 19: 'T', 20: 'U', 21: 'V', 22: 'W', 23: 'X', 24: 'Y', 25: 'Z'}\n"
          ]
        }
      ]
    },
    {
      "cell_type": "code",
      "source": [
        "# dictionary of dictonary\n",
        "\n",
        "var2={\"name\":hbbuh\",\"age\":22,\"roll\":2201760}\n",
        "var3={\"name\":hbbuh\",\"age\":22,\"roll\":2201760}\n",
        "\n",
        "\n",
        "var4={2:var2,3:var3}\n",
        "print(var4[2][\"name\"])"
      ],
      "metadata": {
        "colab": {
          "base_uri": "https://localhost:8080/",
          "height": 106
        },
        "id": "yTlgwoEO4hIx",
        "outputId": "7057d766-5cc0-427c-c9d5-fae92f63c7e6"
      },
      "execution_count": null,
      "outputs": [
        {
          "output_type": "error",
          "ename": "SyntaxError",
          "evalue": "unterminated string literal (detected at line 3) (<ipython-input-102-abed5a7a9103>, line 3)",
          "traceback": [
            "\u001b[0;36m  File \u001b[0;32m\"<ipython-input-102-abed5a7a9103>\"\u001b[0;36m, line \u001b[0;32m3\u001b[0m\n\u001b[0;31m    var2={\"name\":hbbuh\",\"age\":22,\"roll\":2201760}\u001b[0m\n\u001b[0m                                      ^\u001b[0m\n\u001b[0;31mSyntaxError\u001b[0m\u001b[0;31m:\u001b[0m unterminated string literal (detected at line 3)\n"
          ]
        }
      ]
    },
    {
      "cell_type": "code",
      "source": [
        "#write a python code to check give fib sequence til given numver\n",
        "def fib_sequence(n):\n",
        "  fib_list=[0,1]\n",
        "  while fib_list[-1] + fib_list[-2] <= n:\n",
        "    fib_list.append(fib_list[-1] + fib_list[-2])\n",
        "  return fib_list\n",
        "\n",
        "print(fib_sequence(50))"
      ],
      "metadata": {
        "colab": {
          "base_uri": "https://localhost:8080/"
        },
        "id": "I8dF4Db-5A4R",
        "outputId": "6a805b6b-8fc1-43c6-d941-409f4acf6218"
      },
      "execution_count": null,
      "outputs": [
        {
          "output_type": "stream",
          "name": "stdout",
          "text": [
            "[0, 1, 1, 2, 3, 5, 8, 13, 21, 34]\n"
          ]
        }
      ]
    },
    {
      "cell_type": "code",
      "source": [
        " # i need to write a piecof code which simulate playing\n",
        " #the lottery picks betweem 0 to9\n",
        " #if our number are same, then i get 80$ which is +80\n",
        " #if our number are fiff, then i loose 10$ which is -10\n",
        "\n",
        "\n"
      ],
      "metadata": {
        "id": "5Xkx1pVx6efN",
        "outputId": "11c32149-010e-41f1-dbd5-ca94c2aff110",
        "colab": {
          "base_uri": "https://localhost:8080/"
        }
      },
      "execution_count": null,
      "outputs": [
        {
          "output_type": "error",
          "ename": "SyntaxError",
          "evalue": "incomplete input (<ipython-input-1-8533f1f476ea>, line 7)",
          "traceback": [
            "\u001b[0;36m  File \u001b[0;32m\"<ipython-input-1-8533f1f476ea>\"\u001b[0;36m, line \u001b[0;32m7\u001b[0m\n\u001b[0;31m    \u001b[0m\n\u001b[0m    ^\u001b[0m\n\u001b[0;31mSyntaxError\u001b[0m\u001b[0;31m:\u001b[0m incomplete input\n"
          ]
        }
      ]
    },
    {
      "cell_type": "code",
      "source": [],
      "metadata": {
        "id": "OnbeL1uypr87"
      },
      "execution_count": null,
      "outputs": []
    }
  ]
}