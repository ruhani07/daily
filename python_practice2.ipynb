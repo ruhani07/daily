{
  "nbformat": 4,
  "nbformat_minor": 0,
  "metadata": {
    "colab": {
      "provenance": []
    },
    "kernelspec": {
      "name": "python3",
      "display_name": "Python 3"
    },
    "language_info": {
      "name": "python"
    }
  },
  "cells": [
    {
      "cell_type": "code",
      "execution_count": null,
      "metadata": {
        "colab": {
          "base_uri": "https://localhost:8080/"
        },
        "id": "mRtq_hsxIxpZ",
        "outputId": "7c2e29b0-0475-4a37-f85c-e9be37ead571"
      },
      "outputs": [
        {
          "output_type": "stream",
          "name": "stdout",
          "text": [
            "brisk\n",
            "third_row 4\n",
            "first_row 3\n",
            "first_row 7\n",
            "second_row 1\n",
            "second_row 7\n"
          ]
        }
      ],
      "source": [
        "first_row = 'qwertyuiop'\n",
        "second_row = 'asdfghjkl'\n",
        "third_row = 'zxcvbnm'\n",
        "\n",
        "word = input()\n",
        "for char in word:\n",
        "    if char in first_row:\n",
        "        print('first_row', first_row.index(char))\n",
        "    elif char in second_row:\n",
        "        print('second_row', second_row.index(char))\n",
        "    elif char in third_row:\n",
        "        print('third_row', third_row.index(char))\n"
      ]
    },
    {
      "cell_type": "code",
      "source": [
        "x = 0\n",
        "while True:\n",
        "    if x < 10:\n",
        "        x = int(input())\n",
        "        continue\n",
        "    elif b < x < b + 2:\n",
        "        break\n"
      ],
      "metadata": {
        "colab": {
          "base_uri": "https://localhost:8080/",
          "height": 237
        },
        "id": "4WuUWUFdIzao",
        "outputId": "82b16321-8c0c-41ca-99e2-9dda67b14435"
      },
      "execution_count": null,
      "outputs": [
        {
          "name": "stdout",
          "output_type": "stream",
          "text": [
            "\n"
          ]
        },
        {
          "output_type": "error",
          "ename": "ValueError",
          "evalue": "invalid literal for int() with base 10: ''",
          "traceback": [
            "\u001b[0;31m---------------------------------------------------------------------------\u001b[0m",
            "\u001b[0;31mValueError\u001b[0m                                Traceback (most recent call last)",
            "\u001b[0;32m<ipython-input-1-1e75ab8fda72>\u001b[0m in \u001b[0;36m<cell line: 2>\u001b[0;34m()\u001b[0m\n\u001b[1;32m      2\u001b[0m \u001b[0;32mwhile\u001b[0m \u001b[0;32mTrue\u001b[0m\u001b[0;34m:\u001b[0m\u001b[0;34m\u001b[0m\u001b[0;34m\u001b[0m\u001b[0m\n\u001b[1;32m      3\u001b[0m     \u001b[0;32mif\u001b[0m \u001b[0mx\u001b[0m \u001b[0;34m<\u001b[0m \u001b[0;36m10\u001b[0m\u001b[0;34m:\u001b[0m\u001b[0;34m\u001b[0m\u001b[0;34m\u001b[0m\u001b[0m\n\u001b[0;32m----> 4\u001b[0;31m         \u001b[0mx\u001b[0m \u001b[0;34m=\u001b[0m \u001b[0mint\u001b[0m\u001b[0;34m(\u001b[0m\u001b[0minput\u001b[0m\u001b[0;34m(\u001b[0m\u001b[0;34m)\u001b[0m\u001b[0;34m)\u001b[0m\u001b[0;34m\u001b[0m\u001b[0;34m\u001b[0m\u001b[0m\n\u001b[0m\u001b[1;32m      5\u001b[0m         \u001b[0;32mcontinue\u001b[0m\u001b[0;34m\u001b[0m\u001b[0;34m\u001b[0m\u001b[0m\n\u001b[1;32m      6\u001b[0m     \u001b[0;32melif\u001b[0m \u001b[0mb\u001b[0m \u001b[0;34m<\u001b[0m \u001b[0mx\u001b[0m \u001b[0;34m<\u001b[0m \u001b[0mb\u001b[0m \u001b[0;34m+\u001b[0m \u001b[0;36m2\u001b[0m\u001b[0;34m:\u001b[0m\u001b[0;34m\u001b[0m\u001b[0;34m\u001b[0m\u001b[0m\n",
            "\u001b[0;31mValueError\u001b[0m: invalid literal for int() with base 10: ''"
          ]
        }
      ]
    },
    {
      "cell_type": "code",
      "source": [
        "L = [1, 2, 3, 4, 5, 6, 7, 8, 9, 10]\n",
        "\n",
        "S = 0\n",
        "while len(L) >= 2:\n",
        "    S += L[0] + L[-1]\n",
        "    L = L[1:]\n",
        "    L = L[:-1]\n",
        "\n",
        "print(S)\n"
      ],
      "metadata": {
        "colab": {
          "base_uri": "https://localhost:8080/"
        },
        "id": "LmDP18KaJgGJ",
        "outputId": "e31333f1-a8ec-459a-ca10-92fa47997c75"
      },
      "execution_count": null,
      "outputs": [
        {
          "output_type": "stream",
          "name": "stdout",
          "text": [
            "55\n"
          ]
        }
      ]
    },
    {
      "cell_type": "code",
      "source": [
        "L = [1, 2, 3, 4, 5, 6, 7, 8, 9, 10]\n",
        "\n",
        "S = 0\n",
        "while len(L) >= 2:\n",
        "    S += L[0] + L[-1]\n",
        "    L = L[1:]\n",
        "    L = L[:-1]\n",
        "\n",
        "    print(L)\n"
      ],
      "metadata": {
        "colab": {
          "base_uri": "https://localhost:8080/"
        },
        "id": "G073JFq3X9fG",
        "outputId": "b84c532f-61ab-4442-8b44-acc8cff5b628"
      },
      "execution_count": null,
      "outputs": [
        {
          "output_type": "stream",
          "name": "stdout",
          "text": [
            "[2, 3, 4, 5, 6, 7, 8, 9]\n",
            "[3, 4, 5, 6, 7, 8]\n",
            "[4, 5, 6, 7]\n",
            "[5, 6]\n",
            "[]\n"
          ]
        }
      ]
    },
    {
      "cell_type": "code",
      "source": [
        "def solve(N, arr, K):\n",
        "  \"\"\"\n",
        "  Sorts the given array based on modulo with K.\n",
        "\n",
        "  Args:\n",
        "    N: The number of elements in the array.\n",
        "    arr: The array to be sorted.\n",
        "    K: The modulo value.\n",
        "\n",
        "  Returns:\n",
        "    None\n",
        "  \"\"\"\n",
        "\n",
        "  # Create a list to store the modulo values and indices\n",
        "  modulo_indices = [(arr[i] % K, i) for i in range(N)]\n",
        "\n",
        "  # Sort the list based on the modulo values\n",
        "  modulo_indices.sort()\n",
        "\n",
        "  # Create a new array to store the sorted elements\n",
        "  sorted_arr = [0] * N\n",
        "\n",
        "  # Fill the sorted array with elements based on the sorted modulo indices\n",
        "  for i, (modulo, original_index) in enumerate(modulo_indices):\n",
        "    sorted_arr[i] = arr[original_index]\n",
        "\n",
        "  # Print the sorted array\n",
        "  print(*sorted_arr)\n",
        "\n",
        "N = 10\n",
        "arr = [34, 25, 87, 19, 56, 72, 43, 98, 61, 12]\n",
        "K = 7\n",
        "# Call the function\n",
        "solve(N, arr, K)"
      ],
      "metadata": {
        "id": "vpi_92fPYWOM",
        "colab": {
          "base_uri": "https://localhost:8080/"
        },
        "outputId": "b0b77320-cd34-451c-8926-e09056755dfa"
      },
      "execution_count": null,
      "outputs": [
        {
          "output_type": "stream",
          "name": "stdout",
          "text": [
            "56 98 43 72 87 25 19 61 12 34\n"
          ]
        }
      ]
    },
    {
      "cell_type": "code",
      "source": [
        "def solve(phrase1, phrase2):\n",
        "  \"\"\"\n",
        "  Determines if two phrases are anagrams of each other.\n",
        "\n",
        "  Args:\n",
        "    phrase1: The first phrase.\n",
        "    phrase2: The second phrase.\n",
        "\n",
        "  Returns:\n",
        "    True if the phrases are anagrams, False otherwise.\n",
        "  \"\"\"\n",
        "\n",
        "  # Remove spaces and convert to lowercase for case-insensitive comparison\n",
        "  phrase1 = phrase1.replace(\" \", \"\").lower()\n",
        "  phrase2 = phrase2.replace(\" \", \"\").lower()\n",
        "\n",
        "  # Check if the lengths of the phrases are equal\n",
        "  if len(phrase1) != len(phrase2):\n",
        "    return False\n",
        "\n",
        "  # Create a dictionary to count the occurrences of each character in phrase1\n",
        "  char_count = {}\n",
        "  for char in phrase1:\n",
        "    char_count[char] = char_count.get(char, 0) + 1\n",
        "\n",
        "  # Check if each character in phrase2 appears the same number of times in phrase1\n",
        "  for char in phrase2:\n",
        "    if char not in char_count or char_count[char] == 0:\n",
        "      return False\n",
        "    char_count[char] -= 1\n",
        "\n",
        "  return True\n",
        "\n",
        "# Sample input\n",
        "phrase1 = \"Ruha,6ni\"\n",
        "phrase2 = \"hu ra?,ni6\"\n",
        "\n",
        "# Call the function\n",
        "result = solve(phrase1, phrase2)\n",
        "\n",
        "# Print the result\n",
        "print(result)"
      ],
      "metadata": {
        "colab": {
          "base_uri": "https://localhost:8080/"
        },
        "id": "8Hv-xNh5SRp3",
        "outputId": "a53c4b8d-7416-4606-c154-b3d0d0acc465"
      },
      "execution_count": null,
      "outputs": [
        {
          "output_type": "stream",
          "name": "stdout",
          "text": [
            "False\n"
          ]
        }
      ]
    },
    {
      "cell_type": "code",
      "source": [
        "def solve(phrase1, phrase2):\n",
        "  \"\"\"\n",
        "  Determines if two phrases are anagrams of each other.\n",
        "\n",
        "  Args:\n",
        "    phrase1: The first phrase.\n",
        "    phrase2: The second phrase.\n",
        "\n",
        "  Returns:\n",
        "    True if the phrases are anagrams, False otherwise.\n",
        "  \"\"\"\n",
        "\n",
        "  # Remove spaces and convert to lowercase for case-insensitive comparison\n",
        "  phrase1 = phrase1.replace(\" \", \"\").lower()\n",
        "  phrase2 = phrase2.replace(\" \", \"\").lower()\n",
        "\n",
        "  # Check if the lengths of the phrases are equal\n",
        "  if len(phrase1) != len(phrase2):\n",
        "    return False\n",
        "\n",
        "  # Create a dictionary to count the occurrences of each character in phrase1\n",
        "  char_count = {}\n",
        "  for char in phrase1:\n",
        "    char_count[char] = char_count.get(char, 0) + 1\n",
        "\n",
        "  # Check if each character in phrase2 appears the same number of times in phrase1\n",
        "  for char in phrase2:\n",
        "    if char not in char_count or char_count[char] == 0:\n",
        "      return False\n",
        "    char_count[char] -= 1\n",
        "\n",
        "  return True\n"
      ],
      "metadata": {
        "id": "Mh5zaY1cUdCD"
      },
      "execution_count": null,
      "outputs": []
    },
    {
      "cell_type": "code",
      "source": [
        "def solve(phrase1, phrase2):\n",
        "    \"\"\"\n",
        "    Determines if two phrases are anagrams of each other.\n",
        "\n",
        "    Args:\n",
        "        phrase1: The first phrase.\n",
        "        phrase2: The second phrase.\n",
        "\n",
        "    Returns:\n",
        "        Prints \"True\" if the phrases are anagrams, \"False\" otherwise.\n",
        "    \"\"\"\n",
        "\n",
        "    # Remove spaces and convert to lowercase for case-insensitive comparison\n",
        "    phrase1 = phrase1.replace(\" \", \"\").lower()\n",
        "    phrase2 = phrase2.replace(\" \", \"\").lower()\n",
        "\n",
        "    # Check if the lengths of the phrases are equal\n",
        "    if len(phrase1) != len(phrase2):\n",
        "        print(\"False\")\n",
        "        return\n",
        "\n",
        "    # Create a dictionary to count the occurrences of each character in phrase1\n",
        "    char_count = {}\n",
        "    for char in phrase1:\n",
        "        char_count[char] = char_count.get(char, 0) + 1\n",
        "\n",
        "    # Check if each character in phrase2 appears the same number of times in phrase1\n",
        "    for char in phrase2:\n",
        "        if char not in char_count or char_count[char] == 0:\n",
        "            print(\"False\")\n",
        "            return\n",
        "        char_count[char] -= 1\n",
        "\n",
        "    print(\"True\")\n",
        "\n"
      ],
      "metadata": {
        "id": "aZc1bX0HVAb4"
      },
      "execution_count": null,
      "outputs": []
    },
    {
      "cell_type": "code",
      "source": [
        "\n",
        "a, b, c = data\n",
        "data = (10,20,30)\n",
        "print(a + c)\n",
        "\n"
      ],
      "metadata": {
        "colab": {
          "base_uri": "https://localhost:8080/"
        },
        "id": "HTflRvDYWzZj",
        "outputId": "d36b9f90-6cac-4586-c07f-97c66cfc2119"
      },
      "execution_count": null,
      "outputs": [
        {
          "output_type": "stream",
          "name": "stdout",
          "text": [
            "40\n"
          ]
        }
      ]
    },
    {
      "cell_type": "code",
      "source": [
        "str1 = \"Python\"\n",
        "str2 = \"Programming\"\n",
        "result = str1 + \" \" + str2\n",
        "print(result)\n"
      ],
      "metadata": {
        "id": "Az8YEKCWW4oH",
        "colab": {
          "base_uri": "https://localhost:8080/"
        },
        "outputId": "9b88429c-6f30-4808-9ce8-bd24c8efae2f"
      },
      "execution_count": null,
      "outputs": [
        {
          "output_type": "stream",
          "name": "stdout",
          "text": [
            "Python Programming\n"
          ]
        }
      ]
    },
    {
      "cell_type": "code",
      "source": [
        "data = [(1,'b'),(2,'a'),(3,'c')]\n",
        "data.sort(key=lambda x: x[1])\n",
        "print(data)\n"
      ],
      "metadata": {
        "colab": {
          "base_uri": "https://localhost:8080/"
        },
        "id": "ccfc5CBof2C8",
        "outputId": "137aaf43-1aee-4558-ae78-66399de73523"
      },
      "execution_count": null,
      "outputs": [
        {
          "output_type": "stream",
          "name": "stdout",
          "text": [
            "[(2, 'a'), (1, 'b'), (3, 'c')]\n"
          ]
        }
      ]
    },
    {
      "cell_type": "code",
      "source": [
        "words = [\"banana\", \"apple\", \"cherry\"]\n",
        "words.sort()\n",
        "print(words)\n"
      ],
      "metadata": {
        "colab": {
          "base_uri": "https://localhost:8080/"
        },
        "id": "O3q9sLypgE7s",
        "outputId": "139d588f-f139-4580-b907-10d8c0ff87d5"
      },
      "execution_count": null,
      "outputs": [
        {
          "output_type": "stream",
          "name": "stdout",
          "text": [
            "['apple', 'banana', 'cherry']\n"
          ]
        }
      ]
    },
    {
      "cell_type": "code",
      "source": [
        "lst = [1, 2, 3, 4]\n",
        "lst.append(5)\n",
        "lst[1] = 10\n",
        "print(lst)\n"
      ],
      "metadata": {
        "colab": {
          "base_uri": "https://localhost:8080/"
        },
        "id": "4j7vZTijgceL",
        "outputId": "bc030deb-3ba7-4dd3-bbe8-0b77aba9b266"
      },
      "execution_count": null,
      "outputs": [
        {
          "output_type": "stream",
          "name": "stdout",
          "text": [
            "[1, 10, 3, 4, 5]\n"
          ]
        }
      ]
    },
    {
      "cell_type": "code",
      "source": [
        "words =[\"pear\",\"banana\",\"apple\",\"kiwi\"]\n",
        "words.sort(key=len)\n",
        "print(words)\n"
      ],
      "metadata": {
        "colab": {
          "base_uri": "https://localhost:8080/"
        },
        "id": "w1MGbTtlgn0U",
        "outputId": "87774c09-aa78-488d-c2d1-97cb45af3f02"
      },
      "execution_count": null,
      "outputs": [
        {
          "output_type": "stream",
          "name": "stdout",
          "text": [
            "['pear', 'kiwi', 'apple', 'banana']\n"
          ]
        }
      ]
    },
    {
      "cell_type": "code",
      "source": [
        "tup =(5,10,15,20)\n",
        "result = tup[0] + tup[-1]\n",
        "print(result)\n"
      ],
      "metadata": {
        "colab": {
          "base_uri": "https://localhost:8080/"
        },
        "id": "QknoCiukg-DX",
        "outputId": "685f43c4-5069-4e24-8eca-4284753fd80c"
      },
      "execution_count": null,
      "outputs": [
        {
          "output_type": "stream",
          "name": "stdout",
          "text": [
            "25\n"
          ]
        }
      ]
    },
    {
      "cell_type": "code",
      "source": [
        "text = \"Hello World\"\n",
        "result = text.lower().count('o')\n",
        "print(result)\n"
      ],
      "metadata": {
        "colab": {
          "base_uri": "https://localhost:8080/"
        },
        "id": "BcmIrEvEhVC_",
        "outputId": "b6a2dca2-1fdb-47f6-f707-a831fc80c5d8"
      },
      "execution_count": null,
      "outputs": [
        {
          "output_type": "stream",
          "name": "stdout",
          "text": [
            "2\n"
          ]
        }
      ]
    },
    {
      "cell_type": "code",
      "source": [
        "data = {1: 'A', 2: 'B', 3: 'C'}\n",
        "print(data.get(4, 'D'))\n"
      ],
      "metadata": {
        "id": "zBsnLYvbhqxz",
        "colab": {
          "base_uri": "https://localhost:8080/"
        },
        "outputId": "23eef86a-04ca-4c1e-f81f-9d3b4621427e"
      },
      "execution_count": null,
      "outputs": [
        {
          "output_type": "stream",
          "name": "stdout",
          "text": [
            "D\n"
          ]
        }
      ]
    },
    {
      "cell_type": "code",
      "source": [
        "my_list = [1, 2, 3, 4, 5]\n",
        "result = sum(my_list[:3])\n",
        "print(result)\n"
      ],
      "metadata": {
        "colab": {
          "base_uri": "https://localhost:8080/"
        },
        "id": "aln9QmOb8_pH",
        "outputId": "9b54dfff-94b6-4bb7-d3ba-f41be66eda56"
      },
      "execution_count": null,
      "outputs": [
        {
          "output_type": "stream",
          "name": "stdout",
          "text": [
            "6\n"
          ]
        }
      ]
    },
    {
      "cell_type": "code",
      "source": [
        "x = [1, 2, 3]\n",
        "y = x\n",
        "y.append(4)\n",
        "print(x)\n"
      ],
      "metadata": {
        "colab": {
          "base_uri": "https://localhost:8080/"
        },
        "id": "XK6q2qKK9Sfi",
        "outputId": "67940244-8c05-4bfb-c79d-159539ba3d80"
      },
      "execution_count": null,
      "outputs": [
        {
          "output_type": "stream",
          "name": "stdout",
          "text": [
            "[1, 2, 3, 4]\n"
          ]
        }
      ]
    },
    {
      "cell_type": "code",
      "source": [
        "list1 = [3, 1, 4]\n",
        "list2 = [5, 9, 2]\n",
        "combined = sorted(list1 + list2)\n",
        "print(combined)\n"
      ],
      "metadata": {
        "colab": {
          "base_uri": "https://localhost:8080/"
        },
        "id": "gpMTLfEY9Zja",
        "outputId": "a20be67d-8aac-4561-b1b2-68be61926abb"
      },
      "execution_count": null,
      "outputs": [
        {
          "output_type": "stream",
          "name": "stdout",
          "text": [
            "[1, 2, 3, 4, 5, 9]\n"
          ]
        }
      ]
    },
    {
      "cell_type": "code",
      "source": [
        "matrix = [[1, 2, 3], [4, 5, 6], [7, 8, 9]]\n",
        "result = [x for row in matrix for x in row if x % 3 == 0 or x % 2 == 0]\n",
        "print(result)\n"
      ],
      "metadata": {
        "colab": {
          "base_uri": "https://localhost:8080/"
        },
        "id": "ettMdsh59hXu",
        "outputId": "fe7ef1ff-ab12-4bf1-ce7f-2df887ab132f"
      },
      "execution_count": null,
      "outputs": [
        {
          "output_type": "stream",
          "name": "stdout",
          "text": [
            "[2, 3, 4, 6, 8, 9]\n"
          ]
        }
      ]
    },
    {
      "cell_type": "code",
      "source": [
        "tpl = (1, [2, 3], 4)\n",
        "tpl[1][0] = 100\n",
        "print(tpl)\n"
      ],
      "metadata": {
        "colab": {
          "base_uri": "https://localhost:8080/"
        },
        "id": "J17nM_to9mk6",
        "outputId": "d1095900-20e7-4771-f144-2cab25afea32"
      },
      "execution_count": null,
      "outputs": [
        {
          "output_type": "stream",
          "name": "stdout",
          "text": [
            "(1, [100, 3], 4)\n"
          ]
        }
      ]
    },
    {
      "cell_type": "code",
      "source": [
        "words =[\"Apple\",\"banana\",\"Cherry\",\"appricot\"]\n",
        "words.sort(key=str.lower)\n",
        "print(words)\n"
      ],
      "metadata": {
        "colab": {
          "base_uri": "https://localhost:8080/"
        },
        "id": "lPgXmrjT9zW_",
        "outputId": "fbde739c-87fc-4b28-c183-7f6461ddf470"
      },
      "execution_count": null,
      "outputs": [
        {
          "output_type": "stream",
          "name": "stdout",
          "text": [
            "['Apple', 'appricot', 'banana', 'Cherry']\n"
          ]
        }
      ]
    },
    {
      "cell_type": "code",
      "source": [
        "data=[(1,'apple'),(2,'banana'),(3,'kiwi')]\n",
        "data.sort(key=lambda x: (len(x[1]), x[0]))\n",
        "print(data)\n"
      ],
      "metadata": {
        "colab": {
          "base_uri": "https://localhost:8080/"
        },
        "id": "B3bHjzdj966Y",
        "outputId": "b07ab5ef-ed3f-4b2c-9965-aa87f6981ac6"
      },
      "execution_count": null,
      "outputs": [
        {
          "output_type": "stream",
          "name": "stdout",
          "text": [
            "[(3, 'kiwi'), (1, 'apple'), (2, 'banana')]\n"
          ]
        }
      ]
    },
    {
      "cell_type": "code",
      "source": [
        "import copy\n",
        "lst1 = [[1, 2], [3, 4]]\n",
        "lst2 = copy.deepcopy(lst1)\n",
        "lst1[0][1] = 100\n",
        "print(lst2)\n",
        "\n"
      ],
      "metadata": {
        "colab": {
          "base_uri": "https://localhost:8080/"
        },
        "id": "up4x3DvP-gAU",
        "outputId": "e9ebc7fa-040f-4eae-cbfe-55b38045329f"
      },
      "execution_count": null,
      "outputs": [
        {
          "output_type": "stream",
          "name": "stdout",
          "text": [
            "[[1, 2], [3, 4]]\n"
          ]
        }
      ]
    },
    {
      "cell_type": "code",
      "source": [
        "data=[('apple',10),('banana',5),('kiwi',10)]\n",
        "data.sort(key=lambda x: (-x[1], len(x[0])))\n",
        "print(data)\n"
      ],
      "metadata": {
        "colab": {
          "base_uri": "https://localhost:8080/"
        },
        "id": "PFKkVbhB-qWM",
        "outputId": "947e130c-1f23-4131-8c8d-2309ad7dec31"
      },
      "execution_count": null,
      "outputs": [
        {
          "output_type": "stream",
          "name": "stdout",
          "text": [
            "[('kiwi', 10), ('apple', 10), ('banana', 5)]\n"
          ]
        }
      ]
    },
    {
      "cell_type": "code",
      "source": [
        "data = [(10, 2, 8), (1, 9, 3), (4, 6, 5)]\n",
        "data.sort(key=lambda x: (x[1], -x[2]))\n",
        "print(data)\n"
      ],
      "metadata": {
        "colab": {
          "base_uri": "https://localhost:8080/"
        },
        "id": "3QNneCV0--bI",
        "outputId": "df6e2455-05e1-4ae5-88dc-2ffede4094c0"
      },
      "execution_count": null,
      "outputs": [
        {
          "output_type": "stream",
          "name": "stdout",
          "text": [
            "[(10, 2, 8), (4, 6, 5), (1, 9, 3)]\n"
          ]
        }
      ]
    },
    {
      "cell_type": "code",
      "source": [
        "def cipherString(N, string):\n",
        "    # Initialize an empty result string\n",
        "    result = \"\"\n",
        "\n",
        "    # Start iterating through the string\n",
        "    i = 0\n",
        "    while i < N:\n",
        "        # Count occurrences of the current character\n",
        "        count = 1\n",
        "        while i + 1 < N and string[i] == string[i + 1]:\n",
        "            count += 1\n",
        "            i += 1\n",
        "\n",
        "        # Append the character and its count to the result string\n",
        "        result += string[i] + str(count)\n",
        "\n",
        "        # Move to the next character\n",
        "        i += 1\n",
        "\n",
        "    # Print the result as required\n",
        "    print(result)\n"
      ],
      "metadata": {
        "id": "c4Hf2b-C_IwF"
      },
      "execution_count": null,
      "outputs": []
    },
    {
      "cell_type": "code",
      "source": [
        "a = [1, 2, 3]\n",
        "b = [4, 5]\n",
        "a.extend(b)\n",
        "print(a)\n"
      ],
      "metadata": {
        "colab": {
          "base_uri": "https://localhost:8080/"
        },
        "id": "yy4fIgEAACcL",
        "outputId": "9adeee28-6663-46c1-ba4f-fe55f8dfaa59"
      },
      "execution_count": null,
      "outputs": [
        {
          "output_type": "stream",
          "name": "stdout",
          "text": [
            "[1, 2, 3, 4, 5]\n"
          ]
        }
      ]
    },
    {
      "cell_type": "code",
      "source": [
        "def multiply(x, y=2):\n",
        "    return x * y\n",
        "\n",
        "print(multiply(3))\n"
      ],
      "metadata": {
        "colab": {
          "base_uri": "https://localhost:8080/"
        },
        "id": "VtkuKzGdOTOK",
        "outputId": "4cce946f-29f5-4ac8-ab6c-c5e64cf29bce"
      },
      "execution_count": null,
      "outputs": [
        {
          "output_type": "stream",
          "name": "stdout",
          "text": [
            "6\n"
          ]
        }
      ]
    },
    {
      "cell_type": "code",
      "source": [
        "word = \"Python\"\n",
        "print(word[1:-1])\n"
      ],
      "metadata": {
        "colab": {
          "base_uri": "https://localhost:8080/"
        },
        "id": "Ipk6OnMiOhSl",
        "outputId": "9e80269b-1d9b-4db8-a0e2-c0878e3d28d1"
      },
      "execution_count": null,
      "outputs": [
        {
          "output_type": "stream",
          "name": "stdout",
          "text": [
            "ytho\n"
          ]
        }
      ]
    },
    {
      "cell_type": "code",
      "source": [
        "my_tuple = (1, 2, 3)\n",
        "print(my_tuple[1:])\n"
      ],
      "metadata": {
        "colab": {
          "base_uri": "https://localhost:8080/"
        },
        "id": "PU0SmTMHOndd",
        "outputId": "a11b20ea-9c40-4211-c402-f20b35a2dbb0"
      },
      "execution_count": null,
      "outputs": [
        {
          "output_type": "stream",
          "name": "stdout",
          "text": [
            "(2, 3)\n"
          ]
        }
      ]
    },
    {
      "cell_type": "code",
      "source": [
        "nums = [10, 20, 30]\n",
        "nums.insert(1, 15)\n",
        "print(nums)\n"
      ],
      "metadata": {
        "colab": {
          "base_uri": "https://localhost:8080/"
        },
        "id": "OQbdqCfjOuzO",
        "outputId": "096537a2-b3b9-415f-f2e2-b42e4cd0b30f"
      },
      "execution_count": null,
      "outputs": [
        {
          "output_type": "stream",
          "name": "stdout",
          "text": [
            "[10, 15, 20, 30]\n"
          ]
        }
      ]
    },
    {
      "cell_type": "code",
      "source": [
        "s = \"Hello, World!\"\n",
        "print(s.replace(\"World\", \"Python\"))\n"
      ],
      "metadata": {
        "colab": {
          "base_uri": "https://localhost:8080/"
        },
        "id": "zLbSWoK5O1jo",
        "outputId": "65d0b199-8639-417d-8b56-d5168e368ce6"
      },
      "execution_count": null,
      "outputs": [
        {
          "output_type": "stream",
          "name": "stdout",
          "text": [
            "Hello, Python!\n"
          ]
        }
      ]
    },
    {
      "cell_type": "code",
      "source": [
        "a = [0, 1, 2, 3]\n",
        "b = a[::-1]\n",
        "print(b)\n"
      ],
      "metadata": {
        "colab": {
          "base_uri": "https://localhost:8080/"
        },
        "id": "3NT_ueCRO687",
        "outputId": "28f6973d-8857-4728-9385-7864bb9517b3"
      },
      "execution_count": null,
      "outputs": [
        {
          "output_type": "stream",
          "name": "stdout",
          "text": [
            "[3, 2, 1, 0]\n"
          ]
        }
      ]
    },
    {
      "cell_type": "code",
      "source": [
        "\n",
        "def solve(N, string):\n",
        "  final=\" \"\n",
        "  i = 0\n",
        "  while i<n:\n",
        "    char = string[i]\n",
        "    i = i+1\n",
        "    while i<n and string[i].isdigit():\n",
        "      q = q*10 + int(string[i])\n",
        "      i=i+1\n",
        "      final+=char*q\n",
        "    return final\n",
        "\n",
        "\n",
        "\n"
      ],
      "metadata": {
        "colab": {
          "base_uri": "https://localhost:8080/",
          "height": 297
        },
        "id": "xkl9ZiCPPAqz",
        "outputId": "f6e243fe-57a6-4efa-cc8b-2529295f3080"
      },
      "execution_count": null,
      "outputs": [
        {
          "output_type": "error",
          "ename": "KeyboardInterrupt",
          "evalue": "Interrupted by user",
          "traceback": [
            "\u001b[0;31m---------------------------------------------------------------------------\u001b[0m",
            "\u001b[0;31mKeyboardInterrupt\u001b[0m                         Traceback (most recent call last)",
            "\u001b[0;32m<ipython-input-25-12a65635370b>\u001b[0m in \u001b[0;36m<cell line: 1>\u001b[0;34m()\u001b[0m\n\u001b[0;32m----> 1\u001b[0;31m \u001b[0mT\u001b[0m\u001b[0;34m=\u001b[0m\u001b[0mint\u001b[0m\u001b[0;34m(\u001b[0m\u001b[0minput\u001b[0m\u001b[0;34m(\u001b[0m\u001b[0;34m\"no. of test cases\"\u001b[0m\u001b[0;34m)\u001b[0m\u001b[0;34m)\u001b[0m\u001b[0;34m\u001b[0m\u001b[0;34m\u001b[0m\u001b[0m\n\u001b[0m",
            "\u001b[0;32m/usr/local/lib/python3.10/dist-packages/ipykernel/kernelbase.py\u001b[0m in \u001b[0;36mraw_input\u001b[0;34m(self, prompt)\u001b[0m\n\u001b[1;32m    849\u001b[0m                 \u001b[0;34m\"raw_input was called, but this frontend does not support input requests.\"\u001b[0m\u001b[0;34m\u001b[0m\u001b[0;34m\u001b[0m\u001b[0m\n\u001b[1;32m    850\u001b[0m             )\n\u001b[0;32m--> 851\u001b[0;31m         return self._input_request(str(prompt),\n\u001b[0m\u001b[1;32m    852\u001b[0m             \u001b[0mself\u001b[0m\u001b[0;34m.\u001b[0m\u001b[0m_parent_ident\u001b[0m\u001b[0;34m,\u001b[0m\u001b[0;34m\u001b[0m\u001b[0;34m\u001b[0m\u001b[0m\n\u001b[1;32m    853\u001b[0m             \u001b[0mself\u001b[0m\u001b[0;34m.\u001b[0m\u001b[0m_parent_header\u001b[0m\u001b[0;34m,\u001b[0m\u001b[0;34m\u001b[0m\u001b[0;34m\u001b[0m\u001b[0m\n",
            "\u001b[0;32m/usr/local/lib/python3.10/dist-packages/ipykernel/kernelbase.py\u001b[0m in \u001b[0;36m_input_request\u001b[0;34m(self, prompt, ident, parent, password)\u001b[0m\n\u001b[1;32m    893\u001b[0m             \u001b[0;32mexcept\u001b[0m \u001b[0mKeyboardInterrupt\u001b[0m\u001b[0;34m:\u001b[0m\u001b[0;34m\u001b[0m\u001b[0;34m\u001b[0m\u001b[0m\n\u001b[1;32m    894\u001b[0m                 \u001b[0;31m# re-raise KeyboardInterrupt, to truncate traceback\u001b[0m\u001b[0;34m\u001b[0m\u001b[0;34m\u001b[0m\u001b[0m\n\u001b[0;32m--> 895\u001b[0;31m                 \u001b[0;32mraise\u001b[0m \u001b[0mKeyboardInterrupt\u001b[0m\u001b[0;34m(\u001b[0m\u001b[0;34m\"Interrupted by user\"\u001b[0m\u001b[0;34m)\u001b[0m \u001b[0;32mfrom\u001b[0m \u001b[0;32mNone\u001b[0m\u001b[0;34m\u001b[0m\u001b[0;34m\u001b[0m\u001b[0m\n\u001b[0m\u001b[1;32m    896\u001b[0m             \u001b[0;32mexcept\u001b[0m \u001b[0mException\u001b[0m \u001b[0;32mas\u001b[0m \u001b[0me\u001b[0m\u001b[0;34m:\u001b[0m\u001b[0;34m\u001b[0m\u001b[0;34m\u001b[0m\u001b[0m\n\u001b[1;32m    897\u001b[0m                 \u001b[0mself\u001b[0m\u001b[0;34m.\u001b[0m\u001b[0mlog\u001b[0m\u001b[0;34m.\u001b[0m\u001b[0mwarning\u001b[0m\u001b[0;34m(\u001b[0m\u001b[0;34m\"Invalid Message:\"\u001b[0m\u001b[0;34m,\u001b[0m \u001b[0mexc_info\u001b[0m\u001b[0;34m=\u001b[0m\u001b[0;32mTrue\u001b[0m\u001b[0;34m)\u001b[0m\u001b[0;34m\u001b[0m\u001b[0;34m\u001b[0m\u001b[0m\n",
            "\u001b[0;31mKeyboardInterrupt\u001b[0m: Interrupted by user"
          ]
        }
      ]
    },
    {
      "cell_type": "code",
      "source": [],
      "metadata": {
        "id": "CDWcYckzREfj"
      },
      "execution_count": null,
      "outputs": []
    }
  ]
}