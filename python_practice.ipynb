{
  "nbformat": 4,
  "nbformat_minor": 0,
  "metadata": {
    "colab": {
      "provenance": []
    },
    "kernelspec": {
      "name": "python3",
      "display_name": "Python 3"
    },
    "language_info": {
      "name": "python"
    }
  },
  "cells": [
    {
      "cell_type": "code",
      "execution_count": null,
      "metadata": {
        "colab": {
          "base_uri": "https://localhost:8080/"
        },
        "id": "camXg3eSolj6",
        "outputId": "5bdded30-c0ae-4dd7-f0db-f2f4f1cac9ea"
      },
      "outputs": [
        {
          "output_type": "stream",
          "name": "stdout",
          "text": [
            "[12, 44, 66, 4, 83]\n"
          ]
        }
      ],
      "source": [
        "list=[12,44,66,4,83]\n",
        "print(list)"
      ]
    },
    {
      "cell_type": "code",
      "source": [
        "print(type(list))"
      ],
      "metadata": {
        "colab": {
          "base_uri": "https://localhost:8080/"
        },
        "id": "2vHG4Z_eouPM",
        "outputId": "7429826a-4bba-4037-a084-a2052f87548e"
      },
      "execution_count": null,
      "outputs": [
        {
          "output_type": "stream",
          "name": "stdout",
          "text": [
            "<class 'list'>\n"
          ]
        }
      ]
    },
    {
      "cell_type": "markdown",
      "source": [
        "add elements to the list\n"
      ],
      "metadata": {
        "id": "to0PMdB1ppoB"
      }
    },
    {
      "cell_type": "code",
      "source": [
        "#append goes last\n",
        "list.append(100)\n",
        "print(list)"
      ],
      "metadata": {
        "colab": {
          "base_uri": "https://localhost:8080/"
        },
        "id": "0GUkjuu5o64t",
        "outputId": "c529e641-385b-4bf5-f87b-eee1c867b6b2"
      },
      "execution_count": null,
      "outputs": [
        {
          "output_type": "stream",
          "name": "stdout",
          "text": [
            "[12, 44, 66, 4, 83, 100]\n"
          ]
        }
      ]
    },
    {
      "cell_type": "code",
      "source": [
        "#insert(index,ele)\n",
        "list.insert(0,1000)\n",
        "print(list)"
      ],
      "metadata": {
        "colab": {
          "base_uri": "https://localhost:8080/"
        },
        "id": "j9XlayCDpElT",
        "outputId": "e6a7d554-1891-4dbf-a6a7-1b6d0e360fd4"
      },
      "execution_count": null,
      "outputs": [
        {
          "output_type": "stream",
          "name": "stdout",
          "text": [
            "[1000, 12, 44, 66, 4, 83, 100]\n"
          ]
        }
      ]
    },
    {
      "cell_type": "markdown",
      "source": [
        "removing elements from the list"
      ],
      "metadata": {
        "id": "Ldw2q_v1pvKS"
      }
    },
    {
      "cell_type": "code",
      "source": [
        "#remove element\n",
        "list.remove(1000)\n",
        "print(list)"
      ],
      "metadata": {
        "colab": {
          "base_uri": "https://localhost:8080/"
        },
        "id": "5OCYARivpXZi",
        "outputId": "1ea0e97c-b875-45d0-ea70-90ca6b89cca6"
      },
      "execution_count": null,
      "outputs": [
        {
          "output_type": "stream",
          "name": "stdout",
          "text": [
            "[12, 44, 66, 4, 83, 100]\n"
          ]
        }
      ]
    },
    {
      "cell_type": "code",
      "source": [
        "#remove using its index\n",
        "#pop(index)\n",
        "list.pop(0)\n",
        "print(list)"
      ],
      "metadata": {
        "colab": {
          "base_uri": "https://localhost:8080/"
        },
        "id": "rZdSTNVZp2UO",
        "outputId": "d66f6ebe-3a17-4506-e8ec-894a65871a71"
      },
      "execution_count": null,
      "outputs": [
        {
          "output_type": "stream",
          "name": "stdout",
          "text": [
            "[44, 66, 4, 83, 100]\n"
          ]
        }
      ]
    },
    {
      "cell_type": "markdown",
      "source": [
        "looping\n"
      ],
      "metadata": {
        "id": "K1NmbKszrsfC"
      }
    },
    {
      "cell_type": "code",
      "source": [
        "for i in range (1,6):\n",
        "  print(i)"
      ],
      "metadata": {
        "colab": {
          "base_uri": "https://localhost:8080/"
        },
        "id": "QnUAljj9rums",
        "outputId": "87db674e-a0fd-4f4c-b244-ff066c19c8c1"
      },
      "execution_count": null,
      "outputs": [
        {
          "output_type": "stream",
          "name": "stdout",
          "text": [
            "1\n",
            "2\n",
            "3\n",
            "4\n",
            "5\n"
          ]
        }
      ]
    },
    {
      "cell_type": "code",
      "source": [
        "list2=[\"apple\",\"banana\",\"mango\"]\n",
        "for i in list2:\n",
        "  print(\"today i ate\",i)"
      ],
      "metadata": {
        "colab": {
          "base_uri": "https://localhost:8080/"
        },
        "id": "lRXPC29ir5AT",
        "outputId": "eb24d041-5bde-490d-a08f-eeeea71b61d7"
      },
      "execution_count": null,
      "outputs": [
        {
          "output_type": "stream",
          "name": "stdout",
          "text": [
            "today i ate apple\n",
            "today i ate banana\n",
            "today i ate mango\n"
          ]
        }
      ]
    },
    {
      "cell_type": "code",
      "source": [
        "#while loop- repeate until condition is satisfied\n",
        "i=1\n",
        "while i<=10:\n",
        "  print(i)\n",
        "  i=i+1"
      ],
      "metadata": {
        "colab": {
          "base_uri": "https://localhost:8080/"
        },
        "id": "D3T-74H6vSwE",
        "outputId": "6580b248-8667-4009-83d1-a4b753190db5"
      },
      "execution_count": null,
      "outputs": [
        {
          "output_type": "stream",
          "name": "stdout",
          "text": [
            "1\n",
            "2\n",
            "3\n",
            "4\n",
            "5\n",
            "6\n",
            "7\n",
            "8\n",
            "9\n",
            "10\n"
          ]
        }
      ]
    },
    {
      "cell_type": "markdown",
      "source": [
        "if - else"
      ],
      "metadata": {
        "id": "BcV81uqmxXFZ"
      }
    },
    {
      "cell_type": "code",
      "source": [
        "sl=180\n",
        "if (sl>=130):\n",
        "  print(\"high\")\n",
        "else:\n",
        "  print(\"low\")"
      ],
      "metadata": {
        "colab": {
          "base_uri": "https://localhost:8080/"
        },
        "id": "Y0-0DT2VxYYX",
        "outputId": "b1d40ed8-b3cc-4fe9-a82c-a0b62d5b1364"
      },
      "execution_count": null,
      "outputs": [
        {
          "output_type": "stream",
          "name": "stdout",
          "text": [
            "high\n"
          ]
        }
      ]
    },
    {
      "cell_type": "code",
      "source": [
        "sg_list=[122,233,166,723]\n",
        "for i in range(len(sg_list)):\n",
        "  if (sg_list[i]>130):\n",
        "    print(\"high\")\n",
        "  else:\n",
        "    print(\"low\")"
      ],
      "metadata": {
        "colab": {
          "base_uri": "https://localhost:8080/"
        },
        "id": "nNLzzQAfyGTz",
        "outputId": "c8195ea1-9ac3-4f60-9171-cb60f98b24f2"
      },
      "execution_count": null,
      "outputs": [
        {
          "output_type": "stream",
          "name": "stdout",
          "text": [
            "low\n",
            "high\n",
            "high\n",
            "high\n"
          ]
        }
      ]
    },
    {
      "cell_type": "code",
      "source": [
        "num=18\n",
        "if (num%2==0):\n",
        "  print(\"even\")\n",
        "elif (num%3==0):\n",
        "  print(\"divisible by 3\")\n",
        "else:\n",
        "  print(\"wowwwwwwwwwwwwww\")"
      ],
      "metadata": {
        "colab": {
          "base_uri": "https://localhost:8080/"
        },
        "id": "cx2ypudjz8f0",
        "outputId": "8afa13af-ed4b-4c3a-c8af-bc3563364900"
      },
      "execution_count": null,
      "outputs": [
        {
          "output_type": "stream",
          "name": "stdout",
          "text": [
            "even\n"
          ]
        }
      ]
    },
    {
      "cell_type": "code",
      "source": [
        "#factorial\n",
        "num=5\n",
        "fact=1\n",
        "for i in range(1,num+1):\n",
        "  fact=fact*i\n",
        "print(fact)"
      ],
      "metadata": {
        "colab": {
          "base_uri": "https://localhost:8080/"
        },
        "id": "ftog40tk1eDF",
        "outputId": "e3c53467-65de-4e2e-eb82-435838f3673b"
      },
      "execution_count": null,
      "outputs": [
        {
          "output_type": "stream",
          "name": "stdout",
          "text": [
            "120\n"
          ]
        }
      ]
    },
    {
      "cell_type": "code",
      "source": [
        "data_string=\"2030-8-12\"\n",
        "def is_leap_year(data_string):\n",
        "  year=int(data_string[:4])\n",
        "  if(year%4==0 and year%100!=0) or (year%400==0):\n",
        "    return True\n",
        "  else:\n",
        "    return False\n",
        "is_leap_year(data_string)"
      ],
      "metadata": {
        "colab": {
          "base_uri": "https://localhost:8080/"
        },
        "id": "2Bd7h1HoDqpb",
        "outputId": "cf7d9a16-829f-44b7-dd69-991bdc8ebc51"
      },
      "execution_count": null,
      "outputs": [
        {
          "output_type": "execute_result",
          "data": {
            "text/plain": [
              "False"
            ]
          },
          "metadata": {},
          "execution_count": 12
        }
      ]
    },
    {
      "cell_type": "code",
      "source": [
        "data_string=\"2023-6-12\"\n",
        "def is_leap_year(data_string):\n",
        "  year=int(data_string[:4])\n",
        "  if(year%4==0 and year%100!=0) or (year%400==0):\n",
        "    return True\n",
        "  else:\n",
        "    return False\n",
        "\n",
        "\n",
        "def days(data_string):\n",
        "  month=int(data_string[5:6])\n",
        "  if(month==2):\n",
        "    if(is_leap_year(data_string)):\n",
        "      print(\"29\")\n",
        "    else:\n",
        "      print(\"28\")\n",
        "  elif(month%2==0):\n",
        "    print(\"30\");\n",
        "  else:\n",
        "    print(\"31\")\n",
        "\n",
        "days(data_string)"
      ],
      "metadata": {
        "colab": {
          "base_uri": "https://localhost:8080/"
        },
        "id": "1uacX695FORe",
        "outputId": "fe254f97-1b4a-4198-db9a-3175a4b047a3"
      },
      "execution_count": null,
      "outputs": [
        {
          "output_type": "stream",
          "name": "stdout",
          "text": [
            "30\n"
          ]
        }
      ]
    },
    {
      "cell_type": "code",
      "source": [],
      "metadata": {
        "id": "qIVFnZCTGvkM"
      },
      "execution_count": null,
      "outputs": []
    }
  ]
}