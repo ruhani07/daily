{
  "nbformat": 4,
  "nbformat_minor": 0,
  "metadata": {
    "colab": {
      "provenance": []
    },
    "kernelspec": {
      "name": "python3",
      "display_name": "Python 3"
    },
    "language_info": {
      "name": "python"
    }
  },
  "cells": [
    {
      "cell_type": "code",
      "execution_count": null,
      "metadata": {
        "colab": {
          "base_uri": "https://localhost:8080/",
          "height": 36
        },
        "id": "KUAKYmx9CP65",
        "outputId": "1609d2ae-2a12-41c5-b739-5caf9cbfd005"
      },
      "outputs": [
        {
          "output_type": "execute_result",
          "data": {
            "text/plain": [
              "'hello'"
            ],
            "application/vnd.google.colaboratory.intrinsic+json": {
              "type": "string"
            }
          },
          "metadata": {},
          "execution_count": 4
        }
      ],
      "source": [
        "#readlines() search funtionalities\n",
        "#returns the most freq word among a list of lines\n",
        "def get_most_frequent_word(lines):\n",
        "  if not lines: #list is empty\n",
        "    return \"there are no words\"\n",
        "\n",
        "  word_frequency={} #dictionary for word:count\n",
        "  for line in lines:\n",
        "    cleaned_line = ''.join(char.lower() if char.isalnum() or char.isspace() else ' ' for char in line)\n",
        "    words = cleaned_line.split() #it split by \" \"(space) and stores it in list form\n",
        "\n",
        "\n",
        "    for word in words:\n",
        "      if word in word_frequency: #means there is word already in dict\n",
        "        word_frequency[word] += 1 #increment by 1\n",
        "      else: #if word doen not exit  in dict so you will add new word\n",
        "        word_frequency[word] = 1\n",
        "\n",
        "    if not word_frequency: #its empty\n",
        "      return \"no valid word found\"\n",
        "\n",
        "    most_frequent_word = ''\n",
        "    max_frequency = 0 #initialization\n",
        "\n",
        "    for word, frequency in word_frequency.items():\n",
        "      if frequency > max_frequency:\n",
        "        most_frequent_word = word\n",
        "        max_frequency = frequency\n",
        "\n",
        "      return most_frequent_word\n",
        "\n",
        "#input\n",
        "lines=[\"hello my name is ruhani\",\n",
        "       \"hello my name is bubu\",\n",
        "       \"the sky is name blue\"]\n",
        "\n",
        "get_most_frequent_word(lines)"
      ]
    },
    {
      "cell_type": "code",
      "source": [
        "# 1 factors\n",
        "def factor(n):\n",
        "  if n<=0:\n",
        "    return \"invalid input\"\n",
        "\n",
        "  factor_set=set()\n",
        "  for i in range(1,n+1): #run from 1 to n\n",
        "    if n%i==0:\n",
        "      factor_set.add(i)\n",
        "  return factor_set\n",
        "\n",
        "\n",
        "factor(10)\n",
        "\n"
      ],
      "metadata": {
        "colab": {
          "base_uri": "https://localhost:8080/"
        },
        "id": "0ybZuEhtIeyG",
        "outputId": "2dc26a75-bd78-43c3-d941-e29954c1fd2f"
      },
      "execution_count": null,
      "outputs": [
        {
          "output_type": "execute_result",
          "data": {
            "text/plain": [
              "{1, 2, 5, 10}"
            ]
          },
          "metadata": {},
          "execution_count": 10
        }
      ]
    },
    {
      "cell_type": "code",
      "source": [
        "#2 common factors\n",
        "def common_factor(a,b):\n",
        "  factor_a = factors(a)\n",
        "  factor_b = factors(b)\n",
        "\n",
        "  return factor_a.intersection(factor_b)\n",
        "\n",
        "common_factor(5,10)"
      ],
      "metadata": {
        "colab": {
          "base_uri": "https://localhost:8080/",
          "height": 297
        },
        "id": "ZhDhWSOJOZ5P",
        "outputId": "3ddbeec1-ddba-44f1-eb71-278437df9548"
      },
      "execution_count": null,
      "outputs": [
        {
          "output_type": "error",
          "ename": "NameError",
          "evalue": "name 'factors' is not defined",
          "traceback": [
            "\u001b[0;31m---------------------------------------------------------------------------\u001b[0m",
            "\u001b[0;31mNameError\u001b[0m                                 Traceback (most recent call last)",
            "\u001b[0;32m<ipython-input-11-84c11ffda195>\u001b[0m in \u001b[0;36m<cell line: 8>\u001b[0;34m()\u001b[0m\n\u001b[1;32m      6\u001b[0m   \u001b[0;32mreturn\u001b[0m \u001b[0mfactor_a\u001b[0m\u001b[0;34m.\u001b[0m\u001b[0mintersection\u001b[0m\u001b[0;34m(\u001b[0m\u001b[0mfactor_b\u001b[0m\u001b[0;34m)\u001b[0m\u001b[0;34m\u001b[0m\u001b[0;34m\u001b[0m\u001b[0m\n\u001b[1;32m      7\u001b[0m \u001b[0;34m\u001b[0m\u001b[0m\n\u001b[0;32m----> 8\u001b[0;31m \u001b[0mcommon_factor\u001b[0m\u001b[0;34m(\u001b[0m\u001b[0;36m5\u001b[0m\u001b[0;34m,\u001b[0m\u001b[0;36m10\u001b[0m\u001b[0;34m)\u001b[0m\u001b[0;34m\u001b[0m\u001b[0;34m\u001b[0m\u001b[0m\n\u001b[0m",
            "\u001b[0;32m<ipython-input-11-84c11ffda195>\u001b[0m in \u001b[0;36mcommon_factor\u001b[0;34m(a, b)\u001b[0m\n\u001b[1;32m      1\u001b[0m \u001b[0;31m#2 common factors\u001b[0m\u001b[0;34m\u001b[0m\u001b[0;34m\u001b[0m\u001b[0m\n\u001b[1;32m      2\u001b[0m \u001b[0;32mdef\u001b[0m \u001b[0mcommon_factor\u001b[0m\u001b[0;34m(\u001b[0m\u001b[0ma\u001b[0m\u001b[0;34m,\u001b[0m\u001b[0mb\u001b[0m\u001b[0;34m)\u001b[0m\u001b[0;34m:\u001b[0m\u001b[0;34m\u001b[0m\u001b[0;34m\u001b[0m\u001b[0m\n\u001b[0;32m----> 3\u001b[0;31m   \u001b[0mfactor_a\u001b[0m \u001b[0;34m=\u001b[0m \u001b[0mfactors\u001b[0m\u001b[0;34m(\u001b[0m\u001b[0ma\u001b[0m\u001b[0;34m)\u001b[0m\u001b[0;34m\u001b[0m\u001b[0;34m\u001b[0m\u001b[0m\n\u001b[0m\u001b[1;32m      4\u001b[0m   \u001b[0mfactor_b\u001b[0m \u001b[0;34m=\u001b[0m \u001b[0mfactors\u001b[0m\u001b[0;34m(\u001b[0m\u001b[0mb\u001b[0m\u001b[0;34m)\u001b[0m\u001b[0;34m\u001b[0m\u001b[0;34m\u001b[0m\u001b[0m\n\u001b[1;32m      5\u001b[0m \u001b[0;34m\u001b[0m\u001b[0m\n",
            "\u001b[0;31mNameError\u001b[0m: name 'factors' is not defined"
          ]
        }
      ]
    },
    {
      "cell_type": "code",
      "source": [
        "#3\n",
        "def factors_upto(n):\n",
        "  factors_dict= {}\n",
        "  for i in range(1, n+1):\n",
        "    factors_dict[i] = factors(i)\n",
        "\n",
        "  return factors_dict\n",
        "\n",
        "factors_upto(10)"
      ],
      "metadata": {
        "colab": {
          "base_uri": "https://localhost:8080/",
          "height": 297
        },
        "id": "Ejr_n8hPPZ5b",
        "outputId": "4f2b119f-fa3d-4fc9-b63e-d842d72b053b"
      },
      "execution_count": null,
      "outputs": [
        {
          "output_type": "error",
          "ename": "NameError",
          "evalue": "name 'factors' is not defined",
          "traceback": [
            "\u001b[0;31m---------------------------------------------------------------------------\u001b[0m",
            "\u001b[0;31mNameError\u001b[0m                                 Traceback (most recent call last)",
            "\u001b[0;32m<ipython-input-14-aaaa7a4ced04>\u001b[0m in \u001b[0;36m<cell line: 9>\u001b[0;34m()\u001b[0m\n\u001b[1;32m      7\u001b[0m   \u001b[0;32mreturn\u001b[0m \u001b[0mfactors_dict\u001b[0m\u001b[0;34m\u001b[0m\u001b[0;34m\u001b[0m\u001b[0m\n\u001b[1;32m      8\u001b[0m \u001b[0;34m\u001b[0m\u001b[0m\n\u001b[0;32m----> 9\u001b[0;31m \u001b[0mfactors_upto\u001b[0m\u001b[0;34m(\u001b[0m\u001b[0;36m10\u001b[0m\u001b[0;34m)\u001b[0m\u001b[0;34m\u001b[0m\u001b[0;34m\u001b[0m\u001b[0m\n\u001b[0m",
            "\u001b[0;32m<ipython-input-14-aaaa7a4ced04>\u001b[0m in \u001b[0;36mfactors_upto\u001b[0;34m(n)\u001b[0m\n\u001b[1;32m      3\u001b[0m   \u001b[0mfactors_dict\u001b[0m\u001b[0;34m=\u001b[0m \u001b[0;34m{\u001b[0m\u001b[0;34m}\u001b[0m\u001b[0;34m\u001b[0m\u001b[0;34m\u001b[0m\u001b[0m\n\u001b[1;32m      4\u001b[0m   \u001b[0;32mfor\u001b[0m \u001b[0mi\u001b[0m \u001b[0;32min\u001b[0m \u001b[0mrange\u001b[0m\u001b[0;34m(\u001b[0m\u001b[0;36m1\u001b[0m\u001b[0;34m,\u001b[0m \u001b[0mn\u001b[0m\u001b[0;34m+\u001b[0m\u001b[0;36m1\u001b[0m\u001b[0;34m)\u001b[0m\u001b[0;34m:\u001b[0m\u001b[0;34m\u001b[0m\u001b[0;34m\u001b[0m\u001b[0m\n\u001b[0;32m----> 5\u001b[0;31m     \u001b[0mfactors_dict\u001b[0m\u001b[0;34m[\u001b[0m\u001b[0mi\u001b[0m\u001b[0;34m]\u001b[0m \u001b[0;34m=\u001b[0m \u001b[0mfactors\u001b[0m\u001b[0;34m(\u001b[0m\u001b[0mi\u001b[0m\u001b[0;34m)\u001b[0m\u001b[0;34m\u001b[0m\u001b[0;34m\u001b[0m\u001b[0m\n\u001b[0m\u001b[1;32m      6\u001b[0m \u001b[0;34m\u001b[0m\u001b[0m\n\u001b[1;32m      7\u001b[0m   \u001b[0;32mreturn\u001b[0m \u001b[0mfactors_dict\u001b[0m\u001b[0;34m\u001b[0m\u001b[0;34m\u001b[0m\u001b[0m\n",
            "\u001b[0;31mNameError\u001b[0m: name 'factors' is not defined"
          ]
        }
      ]
    },
    {
      "cell_type": "code",
      "source": [
        "scores={\n",
        "    'adam':91,\n",
        "    'bob':87,\n",
        "    'carl':98,\n",
        "    'david':92,\n",
        "    'eve':89}\n",
        "\n"
      ],
      "metadata": {
        "id": "vU-93-V_QVui"
      },
      "execution_count": null,
      "outputs": []
    },
    {
      "cell_type": "code",
      "source": [
        "     #list of the values\n",
        "for t in scores.items():\n",
        "  name, marks=t\n",
        "  print(name)\n",
        "  print(marks)\n",
        "  print(name, 'scored', marks, 'marks')"
      ],
      "metadata": {
        "colab": {
          "base_uri": "https://localhost:8080/"
        },
        "id": "Ax7iV_ZIaGHS",
        "outputId": "1388f267-2481-4b12-f611-f04d71c61420"
      },
      "execution_count": null,
      "outputs": [
        {
          "output_type": "stream",
          "name": "stdout",
          "text": [
            "adam\n",
            "91\n",
            "adam scored 91 marks\n",
            "bob\n",
            "87\n",
            "bob scored 87 marks\n",
            "carl\n",
            "98\n",
            "carl scored 98 marks\n",
            "david\n",
            "92\n",
            "david scored 92 marks\n",
            "eve\n",
            "89\n",
            "eve scored 89 marks\n"
          ]
        }
      ]
    },
    {
      "cell_type": "code",
      "source": [
        "\n",
        "max(scores.values())"
      ],
      "metadata": {
        "colab": {
          "base_uri": "https://localhost:8080/"
        },
        "id": "ZaMrsr9CaSNt",
        "outputId": "88c00422-06be-48e0-9293-c80b8d5ef113"
      },
      "execution_count": null,
      "outputs": [
        {
          "output_type": "execute_result",
          "data": {
            "text/plain": [
              "98"
            ]
          },
          "metadata": {},
          "execution_count": 29
        }
      ]
    },
    {
      "cell_type": "code",
      "source": [
        "max_score = max(scores.values())\n",
        "max_studs = [ name for name in score if score[name] = max_score]\n",
        "if len(max_studs) = 1:\n",
        "  max_studs = max_studs[0]\n"
      ],
      "metadata": {
        "colab": {
          "base_uri": "https://localhost:8080/",
          "height": 106
        },
        "id": "ST4_4xY1apkS",
        "outputId": "ba2c47ee-bf2c-4971-98f7-a1dcb18549a4"
      },
      "execution_count": null,
      "outputs": [
        {
          "output_type": "error",
          "ename": "SyntaxError",
          "evalue": "invalid syntax (<ipython-input-34-94791b16b037>, line 2)",
          "traceback": [
            "\u001b[0;36m  File \u001b[0;32m\"<ipython-input-34-94791b16b037>\"\u001b[0;36m, line \u001b[0;32m2\u001b[0m\n\u001b[0;31m    max_studs = [ name for name in score if score[name] = max_score]\u001b[0m\n\u001b[0m                                                        ^\u001b[0m\n\u001b[0;31mSyntaxError\u001b[0m\u001b[0;31m:\u001b[0m invalid syntax\n"
          ]
        }
      ]
    },
    {
      "cell_type": "markdown",
      "source": [
        "week 2 l2"
      ],
      "metadata": {
        "id": "v_cw3RKnNnE4"
      }
    },
    {
      "cell_type": "code",
      "source": [
        "#CEASER CYPHER\n",
        "#PLAIN TEXT - GOOD\n",
        "#ENCRYPTED TEXT- JRRG\n",
        "#DECRYPTED TEXT- GOOD\n",
        "#KEY-3"
      ],
      "metadata": {
        "id": "PVSP-CFPNmqD"
      },
      "execution_count": null,
      "outputs": []
    },
    {
      "cell_type": "code",
      "source": [
        "#VIGENERE CIPHER\n",
        "#PLAIN TEXT - GOOD EVENING\n",
        "#KEY-KEYSRAINBOW\n",
        "#11 CHARACTER (11,5,25,20,19,1,14,2,15,23)\n",
        "#SHIFT G BY 11\n",
        "#ENCRYPTED TEXT- QSNX\n",
        "#DECRYPTED TEXT- GOOD EVENING"
      ],
      "metadata": {
        "id": "PBaMgkswbUCL"
      },
      "execution_count": null,
      "outputs": []
    },
    {
      "cell_type": "code",
      "source": [
        "#PLAIN TEXT - GOOD EVENING\n",
        "#KEY-KEY(11(G),5(O),25(O))SO (11(D),5(E),25(V))...... AND SO ON\n",
        "#SPACE AND PUNTUATION ARE IGNORED"
      ],
      "metadata": {
        "id": "ZuhduR_HSOmn"
      },
      "execution_count": null,
      "outputs": []
    },
    {
      "cell_type": "code",
      "source": [
        "ord('A')\n",
        "#gives ascii value"
      ],
      "metadata": {
        "colab": {
          "base_uri": "https://localhost:8080/"
        },
        "id": "npqLy6tFS94h",
        "outputId": "282b44d6-2a4c-4a52-f85e-a0a509045e5d"
      },
      "execution_count": null,
      "outputs": [
        {
          "output_type": "execute_result",
          "data": {
            "text/plain": [
              "65"
            ]
          },
          "metadata": {},
          "execution_count": 7
        }
      ]
    },
    {
      "cell_type": "code",
      "source": [
        "chr(65)\n",
        "#gives 65 original value"
      ],
      "metadata": {
        "colab": {
          "base_uri": "https://localhost:8080/",
          "height": 36
        },
        "id": "gXMmh6JVS__T",
        "outputId": "fc993576-ffbd-4dd3-bc35-5e0ab3bab97b"
      },
      "execution_count": null,
      "outputs": [
        {
          "output_type": "execute_result",
          "data": {
            "text/plain": [
              "'A'"
            ],
            "application/vnd.google.colaboratory.intrinsic+json": {
              "type": "string"
            }
          },
          "metadata": {},
          "execution_count": 8
        }
      ]
    },
    {
      "cell_type": "code",
      "source": [
        "#encryption function for vigenere cypher\n",
        "#takes plaintext and key as input and return encrypted text as output\n",
        "# plaintext= \"HELLO WORLD\"\n",
        "#key=\"KEY\"\n",
        "#encryption= 'RIJVS UYVJN\n",
        "def vigenere_cipher(plaintext: str, key: str) -> str:\n",
        "    key = key.upper()\n",
        "    plaintext = plaintext.upper()\n",
        "\n",
        "    key_length = len(key)\n",
        "    ciphertext = []  # list of characters\n",
        "\n",
        "    key_index = 0\n",
        "    for char in plaintext:\n",
        "        if char.isalpha():  # if char is alphabet, perform encryption\n",
        "            shift = ord(key[key_index % key_length]) - ord('A')  # Convert key character to its ASCII value\n",
        "            encrypted_char = chr(((ord(char) - ord('A') + shift) % 26) + ord('A'))  # Encrypt the character\n",
        "            ciphertext.append(encrypted_char)\n",
        "            key_index += 1\n",
        "        else:\n",
        "            ciphertext.append(char)  # Preserve non-alphabetic characters\n",
        "\n",
        "    return ''.join(ciphertext)\n",
        "\n",
        "# Take input from the user\n",
        "plaintext = input(\"Enter the plaintext: \")\n",
        "key = input(\"Enter the key: \")\n",
        "\n",
        "# Call the function and print the result\n",
        "ciphertext = vigenere_cipher(plaintext, key)\n",
        "print(\"Ciphertext:\", ciphertext)\n"
      ],
      "metadata": {
        "colab": {
          "base_uri": "https://localhost:8080/",
          "height": 297
        },
        "id": "LywaKw5bTiDq",
        "outputId": "45fafe90-839a-4d6a-b32a-c21d8573e4e5"
      },
      "execution_count": null,
      "outputs": [
        {
          "output_type": "error",
          "ename": "TypeError",
          "evalue": "unsupported operand type(s) for -: 'str' and 'int'",
          "traceback": [
            "\u001b[0;31m---------------------------------------------------------------------------\u001b[0m",
            "\u001b[0;31mTypeError\u001b[0m                                 Traceback (most recent call last)",
            "\u001b[0;32m<ipython-input-12-e45b6c37bb3c>\u001b[0m in \u001b[0;36m<cell line: 25>\u001b[0;34m()\u001b[0m\n\u001b[1;32m     23\u001b[0m   \u001b[0;32mreturn\u001b[0m \u001b[0;34m''\u001b[0m\u001b[0;34m.\u001b[0m\u001b[0mjoin\u001b[0m\u001b[0;34m(\u001b[0m\u001b[0mciphertext\u001b[0m\u001b[0;34m)\u001b[0m\u001b[0;34m\u001b[0m\u001b[0;34m\u001b[0m\u001b[0m\n\u001b[1;32m     24\u001b[0m \u001b[0;34m\u001b[0m\u001b[0m\n\u001b[0;32m---> 25\u001b[0;31m \u001b[0mvigenere_cipher\u001b[0m\u001b[0;34m(\u001b[0m\u001b[0;34m\"HELLO WORLD\"\u001b[0m\u001b[0;34m,\u001b[0m \u001b[0;34m\"KEY\"\u001b[0m\u001b[0;34m)\u001b[0m\u001b[0;34m\u001b[0m\u001b[0;34m\u001b[0m\u001b[0m\n\u001b[0m",
            "\u001b[0;32m<ipython-input-12-e45b6c37bb3c>\u001b[0m in \u001b[0;36mvigenere_cipher\u001b[0;34m(plaintext, key)\u001b[0m\n\u001b[1;32m     14\u001b[0m   \u001b[0;32mfor\u001b[0m \u001b[0mchar\u001b[0m \u001b[0;32min\u001b[0m \u001b[0mplaintext\u001b[0m\u001b[0;34m:\u001b[0m\u001b[0;34m\u001b[0m\u001b[0;34m\u001b[0m\u001b[0m\n\u001b[1;32m     15\u001b[0m     \u001b[0;32mif\u001b[0m \u001b[0mchar\u001b[0m\u001b[0;34m.\u001b[0m\u001b[0misalpha\u001b[0m\u001b[0;34m(\u001b[0m\u001b[0;34m)\u001b[0m\u001b[0;34m:\u001b[0m \u001b[0;31m#if char is alphabet, perform encryption\u001b[0m\u001b[0;34m\u001b[0m\u001b[0;34m\u001b[0m\u001b[0m\n\u001b[0;32m---> 16\u001b[0;31m       \u001b[0mshift\u001b[0m \u001b[0;34m=\u001b[0m \u001b[0mkey\u001b[0m\u001b[0;34m[\u001b[0m\u001b[0mkey_index\u001b[0m \u001b[0;34m%\u001b[0m \u001b[0mkey_lenght\u001b[0m\u001b[0;34m]\u001b[0m \u001b[0;34m-\u001b[0m \u001b[0mord\u001b[0m\u001b[0;34m(\u001b[0m\u001b[0;34m'A'\u001b[0m\u001b[0;34m)\u001b[0m  \u001b[0;31m#key_lenght is 3, indext in i ) increaing\u001b[0m\u001b[0;34m\u001b[0m\u001b[0;34m\u001b[0m\u001b[0m\n\u001b[0m\u001b[1;32m     17\u001b[0m       \u001b[0mencrypted_char\u001b[0m \u001b[0;34m=\u001b[0m \u001b[0;34m(\u001b[0m\u001b[0;34m(\u001b[0m\u001b[0mord\u001b[0m\u001b[0;34m(\u001b[0m\u001b[0mchar\u001b[0m\u001b[0;34m)\u001b[0m \u001b[0;34m-\u001b[0m \u001b[0mord\u001b[0m\u001b[0;34m(\u001b[0m\u001b[0;34m'A'\u001b[0m\u001b[0;34m)\u001b[0m \u001b[0;34m+\u001b[0m \u001b[0mshift\u001b[0m\u001b[0;34m)\u001b[0m \u001b[0;34m%\u001b[0m \u001b[0;36m26\u001b[0m \u001b[0;34m+\u001b[0m \u001b[0mord\u001b[0m\u001b[0;34m(\u001b[0m\u001b[0;34m'A'\u001b[0m\u001b[0;34m)\u001b[0m\u001b[0;34m)\u001b[0m\u001b[0;34m\u001b[0m\u001b[0;34m\u001b[0m\u001b[0m\n\u001b[1;32m     18\u001b[0m       \u001b[0mciphertext\u001b[0m\u001b[0;34m.\u001b[0m\u001b[0mappend\u001b[0m\u001b[0;34m(\u001b[0m\u001b[0mstr\u001b[0m\u001b[0;34m(\u001b[0m\u001b[0mencrypted_char\u001b[0m\u001b[0;34m)\u001b[0m\u001b[0;34m)\u001b[0m\u001b[0;34m\u001b[0m\u001b[0;34m\u001b[0m\u001b[0m\n",
            "\u001b[0;31mTypeError\u001b[0m: unsupported operand type(s) for -: 'str' and 'int'"
          ]
        }
      ]
    },
    {
      "cell_type": "code",
      "source": [
        "# decryption\n",
        "def vigenere_cipher(cyphertext: str, key: str) -> str:  #make sure its str\n",
        "  key = key.upper()\n",
        "  cyphertext = cyphertext.upper()\n",
        "\n",
        "  key_lenght = len(key)\n",
        "  plaintext = [] # list of character\n",
        "\n",
        "  key_index=0\n",
        "  for char in plaintext:\n",
        "    if char.isalpha(): #if char is alphabet, perform encryption\n",
        "      shift = ord[key_index % key_lenght] - ord('A')  #key_lenght is 3, indext in i ) increaing\n",
        "      encrypted_char = ((ord(char) - ord('A') + shift) % 26 - ord('A'))\n",
        "      ciphertext.append(encrypted_char)\n",
        "      key_index += 1\n",
        "    else:\n",
        "      ciphertext.append(char)\n",
        "\n",
        "  return ''.join(ciphertext)\n",
        "\n",
        "vigenere_cipher(\"HELLO WORLD\", \"KEY\")"
      ],
      "metadata": {
        "colab": {
          "base_uri": "https://localhost:8080/",
          "height": 297
        },
        "id": "twpGIdRFYaKJ",
        "outputId": "111afd1e-810e-4847-f4f8-1c57aa1ff9b5"
      },
      "execution_count": null,
      "outputs": [
        {
          "output_type": "error",
          "ename": "NameError",
          "evalue": "name 'ciphertext' is not defined",
          "traceback": [
            "\u001b[0;31m---------------------------------------------------------------------------\u001b[0m",
            "\u001b[0;31mNameError\u001b[0m                                 Traceback (most recent call last)",
            "\u001b[0;32m<ipython-input-13-d6daf1306312>\u001b[0m in \u001b[0;36m<cell line: 21>\u001b[0;34m()\u001b[0m\n\u001b[1;32m     19\u001b[0m   \u001b[0;32mreturn\u001b[0m \u001b[0;34m''\u001b[0m\u001b[0;34m.\u001b[0m\u001b[0mjoin\u001b[0m\u001b[0;34m(\u001b[0m\u001b[0mciphertext\u001b[0m\u001b[0;34m)\u001b[0m\u001b[0;34m\u001b[0m\u001b[0;34m\u001b[0m\u001b[0m\n\u001b[1;32m     20\u001b[0m \u001b[0;34m\u001b[0m\u001b[0m\n\u001b[0;32m---> 21\u001b[0;31m \u001b[0mvigenere_cipher\u001b[0m\u001b[0;34m(\u001b[0m\u001b[0;34m\"HELLO WORLD\"\u001b[0m\u001b[0;34m,\u001b[0m \u001b[0;34m\"KEY\"\u001b[0m\u001b[0;34m)\u001b[0m\u001b[0;34m\u001b[0m\u001b[0;34m\u001b[0m\u001b[0m\n\u001b[0m",
            "\u001b[0;32m<ipython-input-13-d6daf1306312>\u001b[0m in \u001b[0;36mvigenere_cipher\u001b[0;34m(cyphertext, key)\u001b[0m\n\u001b[1;32m     17\u001b[0m       \u001b[0mciphertext\u001b[0m\u001b[0;34m.\u001b[0m\u001b[0mappend\u001b[0m\u001b[0;34m(\u001b[0m\u001b[0mchar\u001b[0m\u001b[0;34m)\u001b[0m\u001b[0;34m\u001b[0m\u001b[0;34m\u001b[0m\u001b[0m\n\u001b[1;32m     18\u001b[0m \u001b[0;34m\u001b[0m\u001b[0m\n\u001b[0;32m---> 19\u001b[0;31m   \u001b[0;32mreturn\u001b[0m \u001b[0;34m''\u001b[0m\u001b[0;34m.\u001b[0m\u001b[0mjoin\u001b[0m\u001b[0;34m(\u001b[0m\u001b[0mciphertext\u001b[0m\u001b[0;34m)\u001b[0m\u001b[0;34m\u001b[0m\u001b[0;34m\u001b[0m\u001b[0m\n\u001b[0m\u001b[1;32m     20\u001b[0m \u001b[0;34m\u001b[0m\u001b[0m\n\u001b[1;32m     21\u001b[0m \u001b[0mvigenere_cipher\u001b[0m\u001b[0;34m(\u001b[0m\u001b[0;34m\"HELLO WORLD\"\u001b[0m\u001b[0;34m,\u001b[0m \u001b[0;34m\"KEY\"\u001b[0m\u001b[0;34m)\u001b[0m\u001b[0;34m\u001b[0m\u001b[0;34m\u001b[0m\u001b[0m\n",
            "\u001b[0;31mNameError\u001b[0m: name 'ciphertext' is not defined"
          ]
        }
      ]
    },
    {
      "cell_type": "code",
      "source": [
        "def vigenere_cipher(plaintext: str, key: str) -> str:\n",
        "    key = key.upper()\n",
        "    plaintext = plaintext.upper()\n",
        "\n",
        "    key_length = len(key)\n",
        "    ciphertext = []\n",
        "\n",
        "    key_index = 0\n",
        "    for char in plaintext:\n",
        "        if char.isalpha():  # If char is alphabet, perform encryption\n",
        "            shift = ord(key[key_index % key_length]) - ord('A')  # Corrected this line\n",
        "            encrypted_char = chr((ord(char) - ord('A') + shift) % 26 + ord('A'))\n",
        "            ciphertext.append(encrypted_char)\n",
        "            key_index += 1\n",
        "        else:\n",
        "            ciphertext.append(char)\n",
        "\n",
        "    return ''.join(ciphertext)\n",
        "\n",
        "# Example usage:\n",
        "encrypted_text = vigenere_cipher(\"HELLO WORLD\", \"KEY\")\n",
        "print(encrypted_text)  # Output: RIJVS UYVJN\n"
      ],
      "metadata": {
        "id": "-UvX0YdSagAQ",
        "outputId": "0a604aad-e63b-4959-873f-520d820b400e",
        "colab": {
          "base_uri": "https://localhost:8080/"
        }
      },
      "execution_count": null,
      "outputs": [
        {
          "output_type": "stream",
          "name": "stdout",
          "text": [
            "RIJVS UYVJN\n"
          ]
        }
      ]
    },
    {
      "cell_type": "code",
      "source": [
        "def find_top_student_from_input():\n",
        "    import sys\n",
        "    input = sys.stdin.read\n",
        "\n",
        "    # Read the entire input\n",
        "    data = input().strip().split('\\n')\n",
        "\n",
        "    # Number of students\n",
        "    n = int(data[0])\n",
        "\n",
        "    # Create a dictionary to store student names and scores\n",
        "    students_scores = {}\n",
        "\n",
        "    # Populate the dictionary with input data\n",
        "    for i in range(1, n + 1):\n",
        "        name, score = data[i].split()\n",
        "        students_scores[name] = int(score)\n",
        "\n",
        "    # Find the maximum score\n",
        "    max_score = max(students_scores.values())\n",
        "\n",
        "    # Find the top students with the maximum score\n",
        "    top_students = [name for name, score in students_scores.items() if score == max_score]\n",
        "\n",
        "    # Print the names of the top students separated by space\n",
        "    print(' '.join(top_students))\n",
        "\n",
        "# Example usage:\n",
        "# This function reads from standard input, so to test it you would need to provide input in the expected format\n",
        "# For example, you can use it in a script or redirect input from a file or command line.\n"
      ],
      "metadata": {
        "id": "imDtI5-wagv4"
      },
      "execution_count": null,
      "outputs": []
    },
    {
      "cell_type": "code",
      "source": [
        "def find_top_student(students_scores):\n",
        "    max_score = max(students_scores.values())\n",
        "    top_students = [name for name, score in students_scores.items() if score == max_score]\n",
        "    print(max_score)\n",
        "    return top_students\n",
        "\n",
        "num_students = int(input(\"Enter the number of students: \"))\n",
        "students_scores = {}\n",
        "\n",
        "for i in range(num_students):\n",
        "    name, score = input(\"Enter name and score (separated by space): \").split()\n",
        "    students_scores[name] = int(score)\n",
        "\n",
        "print(find_top_student(students_scores))\n"
      ],
      "metadata": {
        "colab": {
          "base_uri": "https://localhost:8080/",
          "height": 245
        },
        "id": "1JgKXr15r-LS",
        "outputId": "6b1728c5-698a-4b48-97f9-aec3b0531e56"
      },
      "execution_count": null,
      "outputs": [
        {
          "name": "stdout",
          "output_type": "stream",
          "text": [
            "Enter the number of students: 4\n",
            "Enter name and score (separated by space): Alice 88 Bob 92 Charlie 91 David 92\n"
          ]
        },
        {
          "output_type": "error",
          "ename": "ValueError",
          "evalue": "too many values to unpack (expected 2)",
          "traceback": [
            "\u001b[0;31m---------------------------------------------------------------------------\u001b[0m",
            "\u001b[0;31mValueError\u001b[0m                                Traceback (most recent call last)",
            "\u001b[0;32m<ipython-input-3-f557f16d5252>\u001b[0m in \u001b[0;36m<cell line: 10>\u001b[0;34m()\u001b[0m\n\u001b[1;32m      9\u001b[0m \u001b[0;34m\u001b[0m\u001b[0m\n\u001b[1;32m     10\u001b[0m \u001b[0;32mfor\u001b[0m \u001b[0mi\u001b[0m \u001b[0;32min\u001b[0m \u001b[0mrange\u001b[0m\u001b[0;34m(\u001b[0m\u001b[0mnum_students\u001b[0m\u001b[0;34m)\u001b[0m\u001b[0;34m:\u001b[0m\u001b[0;34m\u001b[0m\u001b[0;34m\u001b[0m\u001b[0m\n\u001b[0;32m---> 11\u001b[0;31m     \u001b[0mname\u001b[0m\u001b[0;34m,\u001b[0m \u001b[0mscore\u001b[0m \u001b[0;34m=\u001b[0m \u001b[0minput\u001b[0m\u001b[0;34m(\u001b[0m\u001b[0;34m\"Enter name and score (separated by space): \"\u001b[0m\u001b[0;34m)\u001b[0m\u001b[0;34m.\u001b[0m\u001b[0msplit\u001b[0m\u001b[0;34m(\u001b[0m\u001b[0;34m)\u001b[0m\u001b[0;34m\u001b[0m\u001b[0;34m\u001b[0m\u001b[0m\n\u001b[0m\u001b[1;32m     12\u001b[0m     \u001b[0mstudents_scores\u001b[0m\u001b[0;34m[\u001b[0m\u001b[0mname\u001b[0m\u001b[0;34m]\u001b[0m \u001b[0;34m=\u001b[0m \u001b[0mint\u001b[0m\u001b[0;34m(\u001b[0m\u001b[0mscore\u001b[0m\u001b[0;34m)\u001b[0m\u001b[0;34m\u001b[0m\u001b[0;34m\u001b[0m\u001b[0m\n\u001b[1;32m     13\u001b[0m \u001b[0;34m\u001b[0m\u001b[0m\n",
            "\u001b[0;31mValueError\u001b[0m: too many values to unpack (expected 2)"
          ]
        }
      ]
    },
    {
      "cell_type": "code",
      "source": [
        "def find_top_student(students_scores):\n",
        "    max_score = max(students_scores.values())\n",
        "    top_students = [name for name, score in students_scores.items() if score == max_score]\n",
        "    print(max_score)\n",
        "    return top_students\n",
        "\n",
        "num_students = int(input(\"Enter the number of students: \"))\n",
        "students_scores = {}\n",
        "\n",
        "for i in range(num_students):\n",
        "    name, score = input(\"Enter name and score (separated by space): \").split(maxsplit=1)\n",
        "    students_scores[name] = int(score)\n",
        "\n",
        "print(find_top_student(students_scores))"
      ],
      "metadata": {
        "colab": {
          "base_uri": "https://localhost:8080/",
          "height": 245
        },
        "id": "RhG89oTatXgG",
        "outputId": "9396cc85-3254-425d-ddfe-60ed34cbc2e2"
      },
      "execution_count": null,
      "outputs": [
        {
          "name": "stdout",
          "output_type": "stream",
          "text": [
            "Enter the number of students: 4\n",
            "Enter name and score (separated by space): Alice 88 Bob 92 Charlie 91 David 92\n"
          ]
        },
        {
          "output_type": "error",
          "ename": "ValueError",
          "evalue": "invalid literal for int() with base 10: '88 Bob 92 Charlie 91 David 92'",
          "traceback": [
            "\u001b[0;31m---------------------------------------------------------------------------\u001b[0m",
            "\u001b[0;31mValueError\u001b[0m                                Traceback (most recent call last)",
            "\u001b[0;32m<ipython-input-4-7eacec48b4d2>\u001b[0m in \u001b[0;36m<cell line: 10>\u001b[0;34m()\u001b[0m\n\u001b[1;32m     10\u001b[0m \u001b[0;32mfor\u001b[0m \u001b[0mi\u001b[0m \u001b[0;32min\u001b[0m \u001b[0mrange\u001b[0m\u001b[0;34m(\u001b[0m\u001b[0mnum_students\u001b[0m\u001b[0;34m)\u001b[0m\u001b[0;34m:\u001b[0m\u001b[0;34m\u001b[0m\u001b[0;34m\u001b[0m\u001b[0m\n\u001b[1;32m     11\u001b[0m     \u001b[0mname\u001b[0m\u001b[0;34m,\u001b[0m \u001b[0mscore\u001b[0m \u001b[0;34m=\u001b[0m \u001b[0minput\u001b[0m\u001b[0;34m(\u001b[0m\u001b[0;34m\"Enter name and score (separated by space): \"\u001b[0m\u001b[0;34m)\u001b[0m\u001b[0;34m.\u001b[0m\u001b[0msplit\u001b[0m\u001b[0;34m(\u001b[0m\u001b[0mmaxsplit\u001b[0m\u001b[0;34m=\u001b[0m\u001b[0;36m1\u001b[0m\u001b[0;34m)\u001b[0m\u001b[0;34m\u001b[0m\u001b[0;34m\u001b[0m\u001b[0m\n\u001b[0;32m---> 12\u001b[0;31m     \u001b[0mstudents_scores\u001b[0m\u001b[0;34m[\u001b[0m\u001b[0mname\u001b[0m\u001b[0;34m]\u001b[0m \u001b[0;34m=\u001b[0m \u001b[0mint\u001b[0m\u001b[0;34m(\u001b[0m\u001b[0mscore\u001b[0m\u001b[0;34m)\u001b[0m\u001b[0;34m\u001b[0m\u001b[0;34m\u001b[0m\u001b[0m\n\u001b[0m\u001b[1;32m     13\u001b[0m \u001b[0;34m\u001b[0m\u001b[0m\n\u001b[1;32m     14\u001b[0m \u001b[0mprint\u001b[0m\u001b[0;34m(\u001b[0m\u001b[0mfind_top_student\u001b[0m\u001b[0;34m(\u001b[0m\u001b[0mstudents_scores\u001b[0m\u001b[0;34m)\u001b[0m\u001b[0;34m)\u001b[0m\u001b[0;34m\u001b[0m\u001b[0;34m\u001b[0m\u001b[0m\n",
            "\u001b[0;31mValueError\u001b[0m: invalid literal for int() with base 10: '88 Bob 92 Charlie 91 David 92'"
          ]
        }
      ]
    },
    {
      "cell_type": "code",
      "source": [
        "def find_top_student(students_scores):\n",
        "    max_score = max(students_scores.values())\n",
        "    top_students = [name for name, score in students_scores.items() if score == max_score]\n",
        "    print(max_score)\n",
        "    return top_students\n",
        "\n",
        "num_students = int(input(\"Enter the number of students: \"))\n",
        "students_scores = {}\n",
        "\n",
        "for i in range(num_students):\n",
        "    name, score = input(\"Enter name and score (separated by space): \").split(maxsplit=1)\n",
        "    score = score.strip()  # Remove leading and trailing spaces\n",
        "    students_scores[name] = int(score)\n",
        "\n",
        "print(find_top_student(students_scores))"
      ],
      "metadata": {
        "colab": {
          "base_uri": "https://localhost:8080/"
        },
        "id": "Q4XPNgs1ttK2",
        "outputId": "45ce9492-c7ee-4ecf-8964-ae3a5a92cc87"
      },
      "execution_count": null,
      "outputs": [
        {
          "output_type": "stream",
          "name": "stdout",
          "text": [
            "Enter the number of students: 4\n",
            "Enter name and score (separated by space): bob 34\n",
            "Enter name and score (separated by space): acice 45\n",
            "Enter name and score (separated by space): hbfje 6\n",
            "Enter name and score (separated by space): ncejf 5\n",
            "45\n",
            "['acice']\n"
          ]
        }
      ]
    },
    {
      "cell_type": "code",
      "source": [
        "x=0\n",
        "if True:\n",
        "    x = x + 1\n",
        "    a = not True\n",
        "    if a:\n",
        "        x = x + 1\n",
        "    else:\n",
        "        x = x - 1\n",
        "print(x)\n"
      ],
      "metadata": {
        "id": "nDtXhj9mt2t1",
        "colab": {
          "base_uri": "https://localhost:8080/"
        },
        "outputId": "9271764e-33c4-438b-e258-fe2db3e5deaa"
      },
      "execution_count": null,
      "outputs": [
        {
          "output_type": "stream",
          "name": "stdout",
          "text": [
            "0\n"
          ]
        }
      ]
    },
    {
      "cell_type": "code",
      "source": [
        "if False:\n",
        "    x = 1\n",
        "if False:\n",
        "    x = 2\n",
        "if False:\n",
        "    x = 3\n",
        "print(x)\n"
      ],
      "metadata": {
        "colab": {
          "base_uri": "https://localhost:8080/"
        },
        "id": "KiyH8H-yY_1L",
        "outputId": "59935e22-47bf-4c50-e0e6-9800bbd9c785"
      },
      "execution_count": null,
      "outputs": [
        {
          "output_type": "stream",
          "name": "stdout",
          "text": [
            "3\n"
          ]
        }
      ]
    },
    {
      "cell_type": "code",
      "source": [
        "num = int(input())\n",
        "def solve(num):\n",
        "  for i in range(10):\n",
        "    print(num*i)\n",
        "solve(num)"
      ],
      "metadata": {
        "id": "zgERf-xTZ5ec"
      },
      "execution_count": null,
      "outputs": []
    },
    {
      "cell_type": "code",
      "source": [
        "def is_prime(n):\n",
        "  if n <= 1:\n",
        "    return False\n",
        "  if n == 2:\n",
        "    return True\n",
        "  if n%2 == 0:\n",
        "    return False\n",
        "  for i in range(3, int(n**0.5+1), 2):\n",
        "    n%i==0\n",
        "    return False\n",
        "  return True\n",
        "\n",
        "\n",
        "def solve(l, r):\n",
        "  prime = []\n",
        "  for i in range(l,r+1):\n",
        "    if is_prime(i):\n",
        "      prime.append(i)\n",
        "  return prime\n",
        "\n",
        "l, r = map(int, input().split())\n",
        "p = solve(l, r)\n",
        "print(p)"
      ],
      "metadata": {
        "id": "jT0L06VvesjV",
        "colab": {
          "base_uri": "https://localhost:8080/"
        },
        "outputId": "07a0ead1-2471-45ec-cb90-97443a8b68d5"
      },
      "execution_count": null,
      "outputs": [
        {
          "output_type": "stream",
          "name": "stdout",
          "text": [
            "2 4\n",
            "[2, 3]\n"
          ]
        }
      ]
    },
    {
      "cell_type": "code",
      "source": [
        "def solve(num):\n",
        "  sum=0\n",
        "  for i in range(2,num+1):\n",
        "    if i%2==0:\n",
        "      sum=sum+i\n",
        "  return sum\n",
        "\n",
        "num = int(input())\n",
        "q=solve(num)\n",
        "print(q)"
      ],
      "metadata": {
        "colab": {
          "base_uri": "https://localhost:8080/"
        },
        "id": "5hwIrfQq0SrE",
        "outputId": "b413752f-afa9-4d96-9657-67d3fc98a718"
      },
      "execution_count": null,
      "outputs": [
        {
          "output_type": "stream",
          "name": "stdout",
          "text": [
            "6\n",
            "12\n"
          ]
        }
      ]
    },
    {
      "cell_type": "code",
      "source": [
        "def is_palindrome(text):\n",
        "  text.lower()\n",
        "  if text == text[-1]:\n",
        "    print(\"YES\")\n",
        "  else:\n",
        "    print(\"NO\")\n",
        "text = input()\n",
        "is_palindrome(text)"
      ],
      "metadata": {
        "colab": {
          "base_uri": "https://localhost:8080/"
        },
        "id": "z98vMKLk2nOt",
        "outputId": "fb3edc3b-8c0a-4f02-e874-bde1b89b7434"
      },
      "execution_count": null,
      "outputs": [
        {
          "output_type": "stream",
          "name": "stdout",
          "text": [
            "Too hot to hoot.\n",
            "NO\n"
          ]
        }
      ]
    },
    {
      "cell_type": "code",
      "source": [
        "def calculate_median(scores):\n",
        "    scores.sort()\n",
        "    n = len(scores)\n",
        "    if n % 2 == 1:\n",
        "        median = scores[n // 2]\n",
        "    else:\n",
        "        median = (scores[n // 2 - 1] + scores[n // 2]) / 2\n",
        "    return median\n",
        "\n",
        "scores = [85, 90, 78, 82, 95]\n",
        "print(calculate_median(scores))"
      ],
      "metadata": {
        "colab": {
          "base_uri": "https://localhost:8080/"
        },
        "id": "8lRPS5ZO6-j4",
        "outputId": "2de0f185-1219-49c6-a7c5-087c6d5fcd40"
      },
      "execution_count": null,
      "outputs": [
        {
          "output_type": "stream",
          "name": "stdout",
          "text": [
            "85\n"
          ]
        }
      ]
    },
    {
      "cell_type": "code",
      "source": [
        "from collections import Counter\n",
        "import string\n",
        "def get_most_frequent_word(lines):\n",
        "    if not lines:\n",
        "        return \"No valid word found in the list\"\n",
        "    text = ' '.join(lines).lower()\n",
        "    text = text.translate(str.maketrans('', '', string.punctuation))\n",
        "    words = text.split()\n",
        "    if not words:\n",
        "        return \"No valid word found in the list\"\n",
        "    word_counts = Counter(words)\n",
        "    most_frequent_word = word_counts.most_common(1)[0][0]\n",
        "    return most_frequent_word\n",
        "lines = [\"The quick brown fox jumps over the lazy dog.\",\n",
        "\"The quick brown fox is quick.\",\n",
        "\"Lazy dogs are not quick.\"]\n",
        "print(get_most_frequent_word(lines))"
      ],
      "metadata": {
        "colab": {
          "base_uri": "https://localhost:8080/"
        },
        "id": "MNcrIZ0lFxUS",
        "outputId": "d89ea941-f9fe-45a6-b7bd-0eb978c35b6c"
      },
      "execution_count": null,
      "outputs": [
        {
          "output_type": "stream",
          "name": "stdout",
          "text": [
            "quick\n"
          ]
        }
      ]
    },
    {
      "cell_type": "code",
      "source": [
        "def decode_ciphertext(ciphertext, key):\n",
        "    alphabet = \"ABCDEFGHIJKLMNOPQRSTUVWXYZ\"\n",
        "\n",
        "    # Check if key length is valid\n",
        "    if len(key) != len(alphabet):\n",
        "        raise ValueError(\"The key must be exactly 26 characters long.\")\n",
        "\n",
        "    decode_map = {}\n",
        "    for i in range(len(alphabet)):\n",
        "        decode_map[key[i]] = alphabet[i]\n",
        "\n",
        "    decoded_message = []\n",
        "    for char in ciphertext:\n",
        "        if char in decode_map:\n",
        "            decoded_message.append(decode_map[char])\n",
        "        else:\n",
        "            decoded_message.append(char)\n",
        "\n",
        "    return ''.join(decoded_message)\n",
        "\n",
        "# Take user input or use default values\n",
        "ciphertext = input(\"Enter the encrypted message (or press Enter to use default): \") or \"VJGTG GZKUVGF C MKPI KP VJG NCPF QH PWODGTKC YJQ YCU HCOQW\"\n",
        "key = input(\"Enter the key (or press Enter to use default): \") or \"CDEFGHIJKLMNOPQRSTUVWXYZAB\"\n",
        "\n",
        "# Decode the message\n",
        "try:\n",
        "    decoded_message = decode_ciphertext(ciphertext, key)\n",
        "    print(\"Decoded Message:\", decoded_message)\n",
        "except ValueError as e:\n",
        "    print(e)\n"
      ],
      "metadata": {
        "colab": {
          "base_uri": "https://localhost:8080/"
        },
        "id": "GmVmpPUXGELu",
        "outputId": "05e3c654-9b10-46d9-b949-6277684e46e1"
      },
      "execution_count": null,
      "outputs": [
        {
          "output_type": "stream",
          "name": "stdout",
          "text": [
            "Enter the encrypted message (or press Enter to use default): W RANU JEYA\n",
            "Enter the key (or press Enter to use default): WXYZABCDEFGHIJKLMNOPQRSTUV\n",
            "Decoded Message: A VERY NICE\n"
          ]
        }
      ]
    },
    {
      "cell_type": "code",
      "source": [
        "def find_missing_int(arr, n):\n",
        "    expected_sum = n * (n + 1) // 2\n",
        "    actual_sum = sum(arr)\n",
        "    missing_number = expected_sum - actual_sum\n",
        "    return missing_number\n",
        "arr = [4, 5, 1, 3]\n",
        "n = 5\n",
        "print(find_missing_int(arr, n))"
      ],
      "metadata": {
        "colab": {
          "base_uri": "https://localhost:8080/"
        },
        "id": "tp5_1v_bG2Ks",
        "outputId": "8f25eed2-f998-47fd-8fa1-3a1c7e07db64"
      },
      "execution_count": null,
      "outputs": [
        {
          "output_type": "stream",
          "name": "stdout",
          "text": [
            "2\n"
          ]
        }
      ]
    },
    {
      "cell_type": "code",
      "source": [
        "def is_leap_year(date_string):\n",
        "    year = int(date_string[0:4])\n",
        "    if (year % 400 == 0) or (year % 100 != 0 and year % 4 == 0):\n",
        "        return True\n",
        "    else:\n",
        "        return False\n",
        "date_string=str(input())\n",
        "print(is_leap_year(date_string))\n"
      ],
      "metadata": {
        "colab": {
          "base_uri": "https://localhost:8080/"
        },
        "id": "oI2gkwhkJOjM",
        "outputId": "ff9c3a79-43d0-4e21-a849-2e0c9ef13add"
      },
      "execution_count": null,
      "outputs": [
        {
          "output_type": "stream",
          "name": "stdout",
          "text": [
            "2024-03-15\n",
            "True\n"
          ]
        }
      ]
    },
    {
      "cell_type": "code",
      "source": [
        "def calculate_median(scores):\n",
        "    scores.sort()\n",
        "    n = len(scores)\n",
        "    if n % 2 == 1:\n",
        "        median = scores[n // 2]\n",
        "    else:\n",
        "        median = (scores[n // 2 - 1] + scores[n // 2]) / 2\n",
        "\n",
        "    return median\n",
        "\n",
        "# Take input as a space-separated string and convert it to a list of integers\n",
        "scores = list(map(int, input(\"Enter the scores separated by spaces: \").split()))\n",
        "\n",
        "# Calculate the median\n",
        "median = calculate_median(scores)\n",
        "\n",
        "# Print the median\n",
        "print(\"The median is:\", median)\n"
      ],
      "metadata": {
        "colab": {
          "base_uri": "https://localhost:8080/"
        },
        "id": "p_lxnI3EJZqK",
        "outputId": "04ce8128-3e8c-43d2-fe21-c201de589de1"
      },
      "execution_count": null,
      "outputs": [
        {
          "output_type": "stream",
          "name": "stdout",
          "text": [
            "Enter the scores separated by spaces: 85 90 78 82 95\n",
            "The median is: 85\n"
          ]
        }
      ]
    },
    {
      "cell_type": "code",
      "source": [
        "def count_vowels(word):\n",
        "    vowels = \"aeiouAEIOU\"\n",
        "    return sum(1 for char in word if char in vowels)\n",
        "\n",
        "def find_word_with_most_vowels(words):\n",
        "    max_vowel_count = 0\n",
        "    result_word = None\n",
        "    for word in words:\n",
        "        vowel_count = count_vowels(word)\n",
        "        if vowel_count > max_vowel_count or (vowel_count == max_vowel_count and word < result_word):\n",
        "            max_vowel_count = vowel_count\n",
        "            result_word = word\n",
        "    return result_word\n",
        "\n",
        "def find_palindromes(words):\n",
        "    palindromes = [word for word in words if word == word[::-1]]\n",
        "    return palindromes if palindromes else [\"None\"]\n",
        "\n",
        "def count_duplicate_words(words):\n",
        "    word_count = {}\n",
        "    for word in words:\n",
        "        lower_word = word.lower()\n",
        "        if lower_word in word_count:\n",
        "            word_count[lower_word] += 1\n",
        "        else:\n",
        "            word_count[lower_word] = 1\n",
        "    duplicates = [word for word, count in word_count.items() if count > 1]\n",
        "    return duplicates if duplicates else [\"None\"]\n",
        "\n",
        "def magical_words_analysis(words):\n",
        "    highest_vowels = find_word_with_most_vowels(words)\n",
        "    palindromes = find_palindromes(words)\n",
        "    duplicate_words = count_duplicate_words(words)\n",
        "\n",
        "    print(f\"Highest Vowels: {highest_vowels}\")\n",
        "    print(f\"Palindrome: {', '.join(palindromes)}\")\n",
        "    print(f\"Duplicate Words: {', '.join(duplicate_words)}\")\n",
        "\n",
        "# Example usage:\n",
        "words = input().split()\n",
        "\n",
        "magical_words_analysis(words)"
      ],
      "metadata": {
        "colab": {
          "base_uri": "https://localhost:8080/"
        },
        "id": "TTcM_kYjJaRs",
        "outputId": "37c995f5-0a09-468b-9ec9-3c0d2dcac2e1"
      },
      "execution_count": null,
      "outputs": [
        {
          "output_type": "stream",
          "name": "stdout",
          "text": [
            "\n",
            "Highest Vowels: None\n",
            "Palindrome: None\n",
            "Duplicate Words: None\n"
          ]
        }
      ]
    },
    {
      "cell_type": "code",
      "source": [
        "\n"
      ],
      "metadata": {
        "colab": {
          "base_uri": "https://localhost:8080/"
        },
        "id": "r0QakXKENmv8",
        "outputId": "2a078beb-8367-4391-b318-d55f492ce875"
      },
      "execution_count": null,
      "outputs": [
        {
          "output_type": "stream",
          "name": "stdout",
          "text": [
            "11.0000000000\n"
          ]
        }
      ]
    },
    {
      "cell_type": "code",
      "source": [
        "def evaluate(expression):\n",
        "    expression = expression.replace(\"plus\", \"+\")\n",
        "    expression = expression.replace(\"minus\", \"-\")\n",
        "    expression = expression.replace(\"times\", \"*\")\n",
        "    expression = expression.replace(\"divided by\", \"/\")\n",
        "num_cases = int(input())\n",
        "\n",
        "for _ in range(num_cases):\n",
        "    expression = input()\n",
        "    print(evaluate(expression))"
      ],
      "metadata": {
        "colab": {
          "base_uri": "https://localhost:8080/"
        },
        "id": "3uHYMlyKNtvD",
        "outputId": "a7ea6b34-b293-46ca-d322-d70de26e8b62"
      },
      "execution_count": null,
      "outputs": [
        {
          "output_type": "stream",
          "name": "stdout",
          "text": [
            "1\n",
            "5 plus ( 3 times 2 )\n",
            "None\n"
          ]
        }
      ]
    },
    {
      "cell_type": "code",
      "source": [
        "def solve(l, r):\n",
        "    prime = []\n",
        "    for i in range(l, r + 1):\n",
        "        if is_prime(i):\n",
        "            prime.append(i)\n",
        "    return prime\n",
        "\n",
        "l, r = map(int, input().split())\n",
        "p = solve(l, r)\n",
        "print(\" \".join(map(str, p)))"
      ],
      "metadata": {
        "id": "dwk1TOBmQgot",
        "colab": {
          "base_uri": "https://localhost:8080/",
          "height": 332
        },
        "outputId": "c5326e02-a16b-44af-9b7b-512505d623c4"
      },
      "execution_count": null,
      "outputs": [
        {
          "name": "stdout",
          "output_type": "stream",
          "text": [
            "2 4\n"
          ]
        },
        {
          "output_type": "error",
          "ename": "NameError",
          "evalue": "name 'is_prime' is not defined",
          "traceback": [
            "\u001b[0;31m---------------------------------------------------------------------------\u001b[0m",
            "\u001b[0;31mNameError\u001b[0m                                 Traceback (most recent call last)",
            "\u001b[0;32m<ipython-input-1-0a682caac633>\u001b[0m in \u001b[0;36m<cell line: 9>\u001b[0;34m()\u001b[0m\n\u001b[1;32m      7\u001b[0m \u001b[0;34m\u001b[0m\u001b[0m\n\u001b[1;32m      8\u001b[0m \u001b[0ml\u001b[0m\u001b[0;34m,\u001b[0m \u001b[0mr\u001b[0m \u001b[0;34m=\u001b[0m \u001b[0mmap\u001b[0m\u001b[0;34m(\u001b[0m\u001b[0mint\u001b[0m\u001b[0;34m,\u001b[0m \u001b[0minput\u001b[0m\u001b[0;34m(\u001b[0m\u001b[0;34m)\u001b[0m\u001b[0;34m.\u001b[0m\u001b[0msplit\u001b[0m\u001b[0;34m(\u001b[0m\u001b[0;34m)\u001b[0m\u001b[0;34m)\u001b[0m\u001b[0;34m\u001b[0m\u001b[0;34m\u001b[0m\u001b[0m\n\u001b[0;32m----> 9\u001b[0;31m \u001b[0mp\u001b[0m \u001b[0;34m=\u001b[0m \u001b[0msolve\u001b[0m\u001b[0;34m(\u001b[0m\u001b[0ml\u001b[0m\u001b[0;34m,\u001b[0m \u001b[0mr\u001b[0m\u001b[0;34m)\u001b[0m\u001b[0;34m\u001b[0m\u001b[0;34m\u001b[0m\u001b[0m\n\u001b[0m\u001b[1;32m     10\u001b[0m \u001b[0mprint\u001b[0m\u001b[0;34m(\u001b[0m\u001b[0;34m\" \"\u001b[0m\u001b[0;34m.\u001b[0m\u001b[0mjoin\u001b[0m\u001b[0;34m(\u001b[0m\u001b[0mmap\u001b[0m\u001b[0;34m(\u001b[0m\u001b[0mstr\u001b[0m\u001b[0;34m,\u001b[0m \u001b[0mp\u001b[0m\u001b[0;34m)\u001b[0m\u001b[0;34m)\u001b[0m\u001b[0;34m)\u001b[0m\u001b[0;34m\u001b[0m\u001b[0;34m\u001b[0m\u001b[0m\n",
            "\u001b[0;32m<ipython-input-1-0a682caac633>\u001b[0m in \u001b[0;36msolve\u001b[0;34m(l, r)\u001b[0m\n\u001b[1;32m      2\u001b[0m     \u001b[0mprime\u001b[0m \u001b[0;34m=\u001b[0m \u001b[0;34m[\u001b[0m\u001b[0;34m]\u001b[0m\u001b[0;34m\u001b[0m\u001b[0;34m\u001b[0m\u001b[0m\n\u001b[1;32m      3\u001b[0m     \u001b[0;32mfor\u001b[0m \u001b[0mi\u001b[0m \u001b[0;32min\u001b[0m \u001b[0mrange\u001b[0m\u001b[0;34m(\u001b[0m\u001b[0ml\u001b[0m\u001b[0;34m,\u001b[0m \u001b[0mr\u001b[0m \u001b[0;34m+\u001b[0m \u001b[0;36m1\u001b[0m\u001b[0;34m)\u001b[0m\u001b[0;34m:\u001b[0m\u001b[0;34m\u001b[0m\u001b[0;34m\u001b[0m\u001b[0m\n\u001b[0;32m----> 4\u001b[0;31m         \u001b[0;32mif\u001b[0m \u001b[0mis_prime\u001b[0m\u001b[0;34m(\u001b[0m\u001b[0mi\u001b[0m\u001b[0;34m)\u001b[0m\u001b[0;34m:\u001b[0m\u001b[0;34m\u001b[0m\u001b[0;34m\u001b[0m\u001b[0m\n\u001b[0m\u001b[1;32m      5\u001b[0m             \u001b[0mprime\u001b[0m\u001b[0;34m.\u001b[0m\u001b[0mappend\u001b[0m\u001b[0;34m(\u001b[0m\u001b[0mi\u001b[0m\u001b[0;34m)\u001b[0m\u001b[0;34m\u001b[0m\u001b[0;34m\u001b[0m\u001b[0m\n\u001b[1;32m      6\u001b[0m     \u001b[0;32mreturn\u001b[0m \u001b[0mprime\u001b[0m\u001b[0;34m\u001b[0m\u001b[0;34m\u001b[0m\u001b[0m\n",
            "\u001b[0;31mNameError\u001b[0m: name 'is_prime' is not defined"
          ]
        }
      ]
    },
    {
      "cell_type": "code",
      "source": [
        "def solve(num):\n",
        "  sum=0\n",
        "  for i in range(2,num+1):\n",
        "    if i%2==0:\n",
        "      sum=sum+i\n",
        "  return sum\n",
        "\n",
        "num = int(input())\n",
        "q=solve(num)\n",
        "print(q)\n"
      ],
      "metadata": {
        "colab": {
          "base_uri": "https://localhost:8080/"
        },
        "id": "hXepMLOmZuB_",
        "outputId": "ab9b6ec2-7b7a-4fea-df5f-2403c2fbb2f5"
      },
      "execution_count": null,
      "outputs": [
        {
          "output_type": "stream",
          "name": "stdout",
          "text": [
            "6\n",
            "12\n"
          ]
        }
      ]
    },
    {
      "cell_type": "code",
      "source": [
        "def solve(num):\n",
        "    sum = 0\n",
        "    for i in range(2, num + 1, 2):\n",
        "        sum += i\n",
        "    return sum\n",
        "\n",
        "# Take input and convert it to an integer\n",
        "num = int(input())\n",
        "\n",
        "# Call the function and print the result\n",
        "result = solve(num)\n",
        "print(result)"
      ],
      "metadata": {
        "colab": {
          "base_uri": "https://localhost:8080/"
        },
        "id": "EGVv1c1Ya3sj",
        "outputId": "5c1c9a6b-3383-4d6f-cc56-56d232ce074c"
      },
      "execution_count": null,
      "outputs": [
        {
          "output_type": "stream",
          "name": "stdout",
          "text": [
            "6\n",
            "12\n"
          ]
        }
      ]
    },
    {
      "cell_type": "code",
      "source": [
        "def magical_words(word_list):\n",
        "  vowels = 'aeiou'\n",
        "  max_vowels = 0\n",
        "  max_vowel_word = ''\n",
        "\n",
        "  for word in word_list:\n",
        "    word = word.lower()\n",
        "    count = 0\n",
        "    for c in word:\n",
        "      if c in vowels:\n",
        "        count += 1"
      ],
      "metadata": {
        "id": "hBdN16isa6I7"
      },
      "execution_count": null,
      "outputs": []
    },
    {
      "cell_type": "code",
      "source": [
        "def magical_words(word_list):\n",
        "    vowel_counts = {word: sum(1 for char in word.lower() if char in 'aeiou') for word in word_list}\n",
        "    most_vowels = max(vowel_counts, key=vowel_counts.get)\n",
        "\n",
        "    palindromes = [word for word in word_list if word.lower() == word.lower()[::-1]]\n",
        "\n",
        "    word_counts = {}\n",
        "    for word in word_list:\n",
        "        word = word.lower()\n",
        "        word_counts[word] = word_counts.get(word, 0) + 1\n",
        "    duplicates = {word: count for word, count in word_counts.items() if count > 1}\n",
        "\n",
        "    return most_vowels, palindromes, duplicates\n",
        "\n",
        "magical_words(california florida atlanta sweden delhi alavala CALIFORNIA)"
      ],
      "metadata": {
        "colab": {
          "base_uri": "https://localhost:8080/",
          "height": 106
        },
        "id": "3c2RnN46xqto",
        "outputId": "ba8d4117-bf25-4c02-80ae-0e40d2e4a809"
      },
      "execution_count": null,
      "outputs": [
        {
          "output_type": "error",
          "ename": "SyntaxError",
          "evalue": "invalid syntax. Perhaps you forgot a comma? (<ipython-input-7-dfd606ba4655>, line 15)",
          "traceback": [
            "\u001b[0;36m  File \u001b[0;32m\"<ipython-input-7-dfd606ba4655>\"\u001b[0;36m, line \u001b[0;32m15\u001b[0m\n\u001b[0;31m    magical_words(california florida atlanta sweden delhi alavala CALIFORNIA)\u001b[0m\n\u001b[0m                  ^\u001b[0m\n\u001b[0;31mSyntaxError\u001b[0m\u001b[0;31m:\u001b[0m invalid syntax. Perhaps you forgot a comma?\n"
          ]
        }
      ]
    },
    {
      "cell_type": "code",
      "source": [],
      "metadata": {
        "id": "aG-3deSjxz_5"
      },
      "execution_count": null,
      "outputs": []
    }
  ]
}